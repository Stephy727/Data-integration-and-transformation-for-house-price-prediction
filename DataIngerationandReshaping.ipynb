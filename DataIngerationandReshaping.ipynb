{
 "cells": [
  {
   "cell_type": "markdown",
   "metadata": {},
   "source": [
    "\n",
    "Date: 31/05/2019\n",
    "\n",
    "Environment: Python 3.7.0 and Anaconda3 5.2.0(64-bit)\n",
    "\n"
   ]
  },
  {
   "cell_type": "markdown",
   "metadata": {},
   "source": [
    "\n",
    "********************************************************************************************************************************\n",
    "\n",
    "### 1.\tLibraries\n",
    "\n",
    "re 2.2.1 (for regular expression, included in Anaconda Python 3.7.0)\n",
    "\n",
    "json 2.0.9 (for json file handling, included in Anaconda Python 3.7.0)\n",
    "\n",
    "datetime(for date time operations, included in Anaconda Python 3.7.0)\n",
    "\n",
    "math(to perform mathematical calculation, included in Anaconda Python 3.7.0)\n",
    "\n",
    "pandas (for manipulating dataframes, included in Anaconda Python 3.7.0)\n",
    "\n",
    "matplotlib(for graphing dataframes, included in Anaconda Python 3.7.0)\n",
    "\n",
    "numpy(for numeric computations, included in Anaconda Python 3.7.0)\n",
    "\n",
    "LinearRegression (for regression analysis, included in Anaconda Python 3.7.0)\n"
   ]
  },
  {
   "cell_type": "code",
   "execution_count": 1,
   "metadata": {},
   "outputs": [],
   "source": [
    "import pandas as pd\n",
    "import geopandas as gpd\n",
    "import requests\n",
    "import os\n",
    "from shapely.geometry import Point\n",
    "import numpy as np\n",
    "import math\n"
   ]
  },
  {
   "cell_type": "code",
   "execution_count": 742,
   "metadata": {},
   "outputs": [],
   "source": [
    "import matplotlib.pyplot as plt\n",
    "import matplotlib.pylab as pylab\n",
    "import datetime\n",
    "from sklearn import datasets, linear_model\n",
    "from sklearn.linear_model import LinearRegression\n",
    "from sklearn.model_selection import train_test_split\n",
    "import statsmodels.api as sm\n",
    "import time\n",
    "from sklearn.metrics import mean_squared_error\n",
    "from sklearn import preprocessing"
   ]
  },
  {
   "cell_type": "markdown",
   "metadata": {},
   "source": [
    "\n",
    "## Task 1\n",
    "\n",
    "Task 1 is to collate dataset based on certain specifications. We have been provided wit shape file, GTFS file, Victoria suburb boundary, crime data, and council data. Using these datasets we have to find suburb, nearest train station, distance to nearest train station, travel time to southern cross station, crime average for three years prior to property purchase and home overpriced flag \n"
   ]
  },
  {
   "cell_type": "markdown",
   "metadata": {},
   "source": [
    "## 1.Finding associated suburb \n",
    "The suburb is found using geopandas. It returns the geometry of the suburb, therefore VIC_LOC_2 can be found in this geometry.\n",
    "Thereon the latitude and longitude can be found from the shapefile.\n",
    "\n",
    "\n",
    "#### Reading the file"
   ]
  },
  {
   "cell_type": "code",
   "execution_count": 2,
   "metadata": {},
   "outputs": [],
   "source": [
    "shapefile = gpd.read_file(\"vic_suburb_boundary\\VIC_LOCALITY_POLYGON_shp.shp\")\n",
    "#print(shapefile)"
   ]
  },
  {
   "cell_type": "code",
   "execution_count": 3,
   "metadata": {
    "collapsed": true
   },
   "outputs": [
    {
     "data": {
      "text/html": [
       "<div>\n",
       "<style scoped>\n",
       "    .dataframe tbody tr th:only-of-type {\n",
       "        vertical-align: middle;\n",
       "    }\n",
       "\n",
       "    .dataframe tbody tr th {\n",
       "        vertical-align: top;\n",
       "    }\n",
       "\n",
       "    .dataframe thead th {\n",
       "        text-align: right;\n",
       "    }\n",
       "</style>\n",
       "<table border=\"1\" class=\"dataframe\">\n",
       "  <thead>\n",
       "    <tr style=\"text-align: right;\">\n",
       "      <th></th>\n",
       "      <th>LC_PLY_PID</th>\n",
       "      <th>DT_CREATE</th>\n",
       "      <th>DT_RETIRE</th>\n",
       "      <th>LOC_PID</th>\n",
       "      <th>VIC_LOCALI</th>\n",
       "      <th>VIC_LOCA_1</th>\n",
       "      <th>VIC_LOCA_2</th>\n",
       "      <th>VIC_LOCA_3</th>\n",
       "      <th>VIC_LOCA_4</th>\n",
       "      <th>VIC_LOCA_5</th>\n",
       "      <th>VIC_LOCA_6</th>\n",
       "      <th>VIC_LOCA_7</th>\n",
       "      <th>geometry</th>\n",
       "    </tr>\n",
       "  </thead>\n",
       "  <tbody>\n",
       "    <tr>\n",
       "      <th>0</th>\n",
       "      <td>6670</td>\n",
       "      <td>2011-08-31</td>\n",
       "      <td>None</td>\n",
       "      <td>VIC2615</td>\n",
       "      <td>2012-04-27</td>\n",
       "      <td>None</td>\n",
       "      <td>UNDERBOOL</td>\n",
       "      <td>None</td>\n",
       "      <td>None</td>\n",
       "      <td>G</td>\n",
       "      <td>None</td>\n",
       "      <td>2</td>\n",
       "      <td>POLYGON ((141.74552399 -35.07228701, 141.74552...</td>\n",
       "    </tr>\n",
       "    <tr>\n",
       "      <th>1</th>\n",
       "      <td>6671</td>\n",
       "      <td>2011-08-31</td>\n",
       "      <td>None</td>\n",
       "      <td>VIC1986</td>\n",
       "      <td>2012-04-27</td>\n",
       "      <td>None</td>\n",
       "      <td>NURRAN</td>\n",
       "      <td>None</td>\n",
       "      <td>None</td>\n",
       "      <td>G</td>\n",
       "      <td>None</td>\n",
       "      <td>2</td>\n",
       "      <td>POLYGON ((148.668767 -37.39571245, 148.6687620...</td>\n",
       "    </tr>\n",
       "    <tr>\n",
       "      <th>2</th>\n",
       "      <td>6672</td>\n",
       "      <td>2011-08-31</td>\n",
       "      <td>None</td>\n",
       "      <td>VIC2862</td>\n",
       "      <td>2012-04-27</td>\n",
       "      <td>None</td>\n",
       "      <td>WOORNDOO</td>\n",
       "      <td>None</td>\n",
       "      <td>None</td>\n",
       "      <td>G</td>\n",
       "      <td>None</td>\n",
       "      <td>2</td>\n",
       "      <td>POLYGON ((142.92287999 -37.97885997, 142.90449...</td>\n",
       "    </tr>\n",
       "    <tr>\n",
       "      <th>3</th>\n",
       "      <td>6673</td>\n",
       "      <td>2011-08-31</td>\n",
       "      <td>None</td>\n",
       "      <td>VIC734</td>\n",
       "      <td>2017-08-09</td>\n",
       "      <td>None</td>\n",
       "      <td>DEPTFORD</td>\n",
       "      <td>None</td>\n",
       "      <td>None</td>\n",
       "      <td>G</td>\n",
       "      <td>None</td>\n",
       "      <td>2</td>\n",
       "      <td>POLYGON ((147.82335712 -37.66000897, 147.82312...</td>\n",
       "    </tr>\n",
       "    <tr>\n",
       "      <th>4</th>\n",
       "      <td>6674</td>\n",
       "      <td>2011-08-31</td>\n",
       "      <td>None</td>\n",
       "      <td>VIC2900</td>\n",
       "      <td>2012-04-27</td>\n",
       "      <td>None</td>\n",
       "      <td>YANAC</td>\n",
       "      <td>None</td>\n",
       "      <td>None</td>\n",
       "      <td>G</td>\n",
       "      <td>None</td>\n",
       "      <td>2</td>\n",
       "      <td>POLYGON ((141.279783 -35.99858911, 141.2798853...</td>\n",
       "    </tr>\n",
       "  </tbody>\n",
       "</table>\n",
       "</div>"
      ],
      "text/plain": [
       "  LC_PLY_PID   DT_CREATE DT_RETIRE  LOC_PID  VIC_LOCALI VIC_LOCA_1 VIC_LOCA_2  \\\n",
       "0       6670  2011-08-31      None  VIC2615  2012-04-27       None  UNDERBOOL   \n",
       "1       6671  2011-08-31      None  VIC1986  2012-04-27       None     NURRAN   \n",
       "2       6672  2011-08-31      None  VIC2862  2012-04-27       None   WOORNDOO   \n",
       "3       6673  2011-08-31      None   VIC734  2017-08-09       None   DEPTFORD   \n",
       "4       6674  2011-08-31      None  VIC2900  2012-04-27       None      YANAC   \n",
       "\n",
       "  VIC_LOCA_3 VIC_LOCA_4 VIC_LOCA_5 VIC_LOCA_6 VIC_LOCA_7  \\\n",
       "0       None       None          G       None          2   \n",
       "1       None       None          G       None          2   \n",
       "2       None       None          G       None          2   \n",
       "3       None       None          G       None          2   \n",
       "4       None       None          G       None          2   \n",
       "\n",
       "                                            geometry  \n",
       "0  POLYGON ((141.74552399 -35.07228701, 141.74552...  \n",
       "1  POLYGON ((148.668767 -37.39571245, 148.6687620...  \n",
       "2  POLYGON ((142.92287999 -37.97885997, 142.90449...  \n",
       "3  POLYGON ((147.82335712 -37.66000897, 147.82312...  \n",
       "4  POLYGON ((141.279783 -35.99858911, 141.2798853...  "
      ]
     },
     "execution_count": 3,
     "metadata": {},
     "output_type": "execute_result"
    }
   ],
   "source": [
    "shapefile.head()"
   ]
  },
  {
   "cell_type": "code",
   "execution_count": 5,
   "metadata": {},
   "outputs": [
    {
     "data": {
      "text/plain": [
       "<matplotlib.axes._subplots.AxesSubplot at 0x1fe84b4a2e8>"
      ]
     },
     "execution_count": 5,
     "metadata": {},
     "output_type": "execute_result"
    },
    {
     "data": {
      "image/png": "[encoded data removed]",
      "text/plain": [
       "<Figure size 432x288 with 1 Axes>"
      ]
     },
     "metadata": {},
     "output_type": "display_data"
    }
   ],
   "source": [
    "shapefile.plot()"
   ]
  },
  {
   "cell_type": "code",
   "execution_count": 6,
   "metadata": {},
   "outputs": [],
   "source": [
    "mydata = pd.read_csv(\"29915651.csv\")"
   ]
  },
  {
   "cell_type": "code",
   "execution_count": 7,
   "metadata": {},
   "outputs": [
    {
     "data": {
      "text/plain": [
       "(720, 12)"
      ]
     },
     "execution_count": 7,
     "metadata": {},
     "output_type": "execute_result"
    }
   ],
   "source": [
    "mydata.shape"
   ]
  },
  {
   "cell_type": "code",
   "execution_count": 8,
   "metadata": {},
   "outputs": [],
   "source": [
    "#Ref https://github.com/bobhaffner/medium_posts/blob/master/geopandas_sjoin/geopandas_sjoin.ipynb\n",
    "#defining point from lat long in the data\n",
    "geom = mydata.apply(lambda x : Point([x['Longtitude'],x['Lattitude']]), axis=1)\n",
    "mydata = gpd.GeoDataFrame(mydata, geometry=geom)"
   ]
  },
  {
   "cell_type": "code",
   "execution_count": 9,
   "metadata": {},
   "outputs": [
    {
     "data": {
      "text/plain": [
       "(720, 13)"
      ]
     },
     "execution_count": 9,
     "metadata": {},
     "output_type": "execute_result"
    }
   ],
   "source": [
    "mydata.shape"
   ]
  },
  {
   "cell_type": "code",
   "execution_count": 10,
   "metadata": {},
   "outputs": [
    {
     "data": {
      "text/html": [
       "<div>\n",
       "<style scoped>\n",
       "    .dataframe tbody tr th:only-of-type {\n",
       "        vertical-align: middle;\n",
       "    }\n",
       "\n",
       "    .dataframe tbody tr th {\n",
       "        vertical-align: top;\n",
       "    }\n",
       "\n",
       "    .dataframe thead th {\n",
       "        text-align: right;\n",
       "    }\n",
       "</style>\n",
       "<table border=\"1\" class=\"dataframe\">\n",
       "  <thead>\n",
       "    <tr style=\"text-align: right;\">\n",
       "      <th></th>\n",
       "      <th>ID</th>\n",
       "      <th>Address</th>\n",
       "      <th>Rooms</th>\n",
       "      <th>Type</th>\n",
       "      <th>Price</th>\n",
       "      <th>Date</th>\n",
       "      <th>Bathroom</th>\n",
       "      <th>Car</th>\n",
       "      <th>Landsize</th>\n",
       "      <th>Age</th>\n",
       "      <th>Lattitude</th>\n",
       "      <th>Longtitude</th>\n",
       "      <th>geometry</th>\n",
       "    </tr>\n",
       "  </thead>\n",
       "  <tbody>\n",
       "    <tr>\n",
       "      <th>0</th>\n",
       "      <td>ID677505543</td>\n",
       "      <td>1A Thelma St</td>\n",
       "      <td>4</td>\n",
       "      <td>t</td>\n",
       "      <td>950000</td>\n",
       "      <td>03-06-2017</td>\n",
       "      <td>2</td>\n",
       "      <td>2</td>\n",
       "      <td>338</td>\n",
       "      <td>119</td>\n",
       "      <td>-37.81065</td>\n",
       "      <td>145.17309</td>\n",
       "      <td>POINT (145.17309 -37.81065)</td>\n",
       "    </tr>\n",
       "    <tr>\n",
       "      <th>1</th>\n",
       "      <td>ID424069898</td>\n",
       "      <td>2/5 Pell St</td>\n",
       "      <td>3</td>\n",
       "      <td>t</td>\n",
       "      <td>882000</td>\n",
       "      <td>27-06-2016</td>\n",
       "      <td>2</td>\n",
       "      <td>2</td>\n",
       "      <td>208</td>\n",
       "      <td>24</td>\n",
       "      <td>-37.91080</td>\n",
       "      <td>145.07940</td>\n",
       "      <td>POINT (145.0794 -37.9108)</td>\n",
       "    </tr>\n",
       "    <tr>\n",
       "      <th>2</th>\n",
       "      <td>ID714401052</td>\n",
       "      <td>50 Leinster Gr</td>\n",
       "      <td>3</td>\n",
       "      <td>h</td>\n",
       "      <td>1110000</td>\n",
       "      <td>17-09-2016</td>\n",
       "      <td>1</td>\n",
       "      <td>1</td>\n",
       "      <td>562</td>\n",
       "      <td>69</td>\n",
       "      <td>-37.76020</td>\n",
       "      <td>144.98780</td>\n",
       "      <td>POINT (144.9878 -37.7602)</td>\n",
       "    </tr>\n",
       "    <tr>\n",
       "      <th>3</th>\n",
       "      <td>ID894840037</td>\n",
       "      <td>197 Albert St</td>\n",
       "      <td>2</td>\n",
       "      <td>h</td>\n",
       "      <td>365000</td>\n",
       "      <td>07-05-2016</td>\n",
       "      <td>1</td>\n",
       "      <td>1</td>\n",
       "      <td>360</td>\n",
       "      <td>59</td>\n",
       "      <td>-37.72730</td>\n",
       "      <td>145.02540</td>\n",
       "      <td>POINT (145.0254 -37.7273)</td>\n",
       "    </tr>\n",
       "    <tr>\n",
       "      <th>4</th>\n",
       "      <td>ID416055004</td>\n",
       "      <td>700 Rathdowne St</td>\n",
       "      <td>4</td>\n",
       "      <td>h</td>\n",
       "      <td>2175000</td>\n",
       "      <td>07-05-2016</td>\n",
       "      <td>1</td>\n",
       "      <td>0</td>\n",
       "      <td>418</td>\n",
       "      <td>99</td>\n",
       "      <td>-37.78080</td>\n",
       "      <td>144.97360</td>\n",
       "      <td>POINT (144.9736 -37.7808)</td>\n",
       "    </tr>\n",
       "  </tbody>\n",
       "</table>\n",
       "</div>"
      ],
      "text/plain": [
       "            ID           Address  Rooms Type    Price        Date  Bathroom  \\\n",
       "0  ID677505543      1A Thelma St      4    t   950000  03-06-2017         2   \n",
       "1  ID424069898       2/5 Pell St      3    t   882000  27-06-2016         2   \n",
       "2  ID714401052    50 Leinster Gr      3    h  1110000  17-09-2016         1   \n",
       "3  ID894840037     197 Albert St      2    h   365000  07-05-2016         1   \n",
       "4  ID416055004  700 Rathdowne St      4    h  2175000  07-05-2016         1   \n",
       "\n",
       "   Car  Landsize  Age  Lattitude  Longtitude                     geometry  \n",
       "0    2       338  119  -37.81065   145.17309  POINT (145.17309 -37.81065)  \n",
       "1    2       208   24  -37.91080   145.07940    POINT (145.0794 -37.9108)  \n",
       "2    1       562   69  -37.76020   144.98780    POINT (144.9878 -37.7602)  \n",
       "3    1       360   59  -37.72730   145.02540    POINT (145.0254 -37.7273)  \n",
       "4    0       418   99  -37.78080   144.97360    POINT (144.9736 -37.7808)  "
      ]
     },
     "execution_count": 10,
     "metadata": {},
     "output_type": "execute_result"
    }
   ],
   "source": [
    "mydata.head()"
   ]
  },
  {
   "cell_type": "code",
   "execution_count": null,
   "metadata": {},
   "outputs": [],
   "source": [
    "# getting geometry and suburb from shapefile\n",
    "shapefile1 = shapefile[['VIC_LOCA_2', 'geometry']]"
   ]
  },
  {
   "cell_type": "code",
   "execution_count": 12,
   "metadata": {
    "collapsed": true
   },
   "outputs": [
    {
     "name": "stderr",
     "output_type": "stream",
     "text": [
      "C:\\Users\\Stephy\\Anaconda3\\lib\\site-packages\\geopandas\\tools\\sjoin.py:44: UserWarning: CRS of frames being joined does not match!\n",
      "  warn('CRS of frames being joined does not match!')\n"
     ]
    }
   ],
   "source": [
    "#locating point from data in the shapefile\n",
    "datawithsuburb = gpd.sjoin(mydata, shapefile1, op='within')"
   ]
  },
  {
   "cell_type": "code",
   "execution_count": 14,
   "metadata": {},
   "outputs": [
    {
     "data": {
      "text/plain": [
       "(720, 15)"
      ]
     },
     "execution_count": 14,
     "metadata": {},
     "output_type": "execute_result"
    }
   ],
   "source": [
    "datawithsuburb.shape"
   ]
  },
  {
   "cell_type": "code",
   "execution_count": 15,
   "metadata": {
    "scrolled": true
   },
   "outputs": [
    {
     "data": {
      "text/plain": [
       "0"
      ]
     },
     "execution_count": 15,
     "metadata": {},
     "output_type": "execute_result"
    }
   ],
   "source": [
    "datawithsuburb.isnull().sum().sum()"
   ]
  },
  {
   "cell_type": "code",
   "execution_count": 260,
   "metadata": {},
   "outputs": [],
   "source": [
    "#dropping and renaming columns\n",
    "datawithsuburb_f = datawithsuburb.drop(columns=['geometry', 'index_right'])\n",
    "datawithsuburb_f = datawithsuburb_f.rename(columns={'VIC_LOCA_2': 'suburb'})"
   ]
  },
  {
   "cell_type": "code",
   "execution_count": 261,
   "metadata": {
    "scrolled": true
   },
   "outputs": [
    {
     "data": {
      "text/html": [
       "<div>\n",
       "<style scoped>\n",
       "    .dataframe tbody tr th:only-of-type {\n",
       "        vertical-align: middle;\n",
       "    }\n",
       "\n",
       "    .dataframe tbody tr th {\n",
       "        vertical-align: top;\n",
       "    }\n",
       "\n",
       "    .dataframe thead th {\n",
       "        text-align: right;\n",
       "    }\n",
       "</style>\n",
       "<table border=\"1\" class=\"dataframe\">\n",
       "  <thead>\n",
       "    <tr style=\"text-align: right;\">\n",
       "      <th></th>\n",
       "      <th>ID</th>\n",
       "      <th>Address</th>\n",
       "      <th>Rooms</th>\n",
       "      <th>Type</th>\n",
       "      <th>Price</th>\n",
       "      <th>Date</th>\n",
       "      <th>Bathroom</th>\n",
       "      <th>Car</th>\n",
       "      <th>Landsize</th>\n",
       "      <th>Age</th>\n",
       "      <th>Lattitude</th>\n",
       "      <th>Longtitude</th>\n",
       "      <th>suburb</th>\n",
       "    </tr>\n",
       "  </thead>\n",
       "  <tbody>\n",
       "    <tr>\n",
       "      <th>0</th>\n",
       "      <td>ID677505543</td>\n",
       "      <td>1A Thelma St</td>\n",
       "      <td>4</td>\n",
       "      <td>t</td>\n",
       "      <td>950000</td>\n",
       "      <td>03-06-2017</td>\n",
       "      <td>2</td>\n",
       "      <td>2</td>\n",
       "      <td>338</td>\n",
       "      <td>119</td>\n",
       "      <td>-37.81065</td>\n",
       "      <td>145.17309</td>\n",
       "      <td>NUNAWADING</td>\n",
       "    </tr>\n",
       "    <tr>\n",
       "      <th>372</th>\n",
       "      <td>ID356980044</td>\n",
       "      <td>3/39 Lemon Gr</td>\n",
       "      <td>2</td>\n",
       "      <td>u</td>\n",
       "      <td>710000</td>\n",
       "      <td>26-08-2017</td>\n",
       "      <td>1</td>\n",
       "      <td>1</td>\n",
       "      <td>903</td>\n",
       "      <td>34</td>\n",
       "      <td>-37.80640</td>\n",
       "      <td>145.18452</td>\n",
       "      <td>NUNAWADING</td>\n",
       "    </tr>\n",
       "    <tr>\n",
       "      <th>1</th>\n",
       "      <td>ID424069898</td>\n",
       "      <td>2/5 Pell St</td>\n",
       "      <td>3</td>\n",
       "      <td>t</td>\n",
       "      <td>882000</td>\n",
       "      <td>27-06-2016</td>\n",
       "      <td>2</td>\n",
       "      <td>2</td>\n",
       "      <td>208</td>\n",
       "      <td>24</td>\n",
       "      <td>-37.91080</td>\n",
       "      <td>145.07940</td>\n",
       "      <td>BENTLEIGH EAST</td>\n",
       "    </tr>\n",
       "    <tr>\n",
       "      <th>39</th>\n",
       "      <td>ID890116976</td>\n",
       "      <td>49 Gowrie St</td>\n",
       "      <td>4</td>\n",
       "      <td>h</td>\n",
       "      <td>1137500</td>\n",
       "      <td>04-06-2016</td>\n",
       "      <td>1</td>\n",
       "      <td>2</td>\n",
       "      <td>696</td>\n",
       "      <td>7</td>\n",
       "      <td>-37.91570</td>\n",
       "      <td>145.08020</td>\n",
       "      <td>BENTLEIGH EAST</td>\n",
       "    </tr>\n",
       "    <tr>\n",
       "      <th>98</th>\n",
       "      <td>ID540451567</td>\n",
       "      <td>60A Kennedy St</td>\n",
       "      <td>3</td>\n",
       "      <td>t</td>\n",
       "      <td>935000</td>\n",
       "      <td>03-06-2017</td>\n",
       "      <td>2</td>\n",
       "      <td>2</td>\n",
       "      <td>244</td>\n",
       "      <td>19</td>\n",
       "      <td>-37.92030</td>\n",
       "      <td>145.08074</td>\n",
       "      <td>BENTLEIGH EAST</td>\n",
       "    </tr>\n",
       "  </tbody>\n",
       "</table>\n",
       "</div>"
      ],
      "text/plain": [
       "              ID         Address  Rooms Type    Price        Date  Bathroom  \\\n",
       "0    ID677505543    1A Thelma St      4    t   950000  03-06-2017         2   \n",
       "372  ID356980044   3/39 Lemon Gr      2    u   710000  26-08-2017         1   \n",
       "1    ID424069898     2/5 Pell St      3    t   882000  27-06-2016         2   \n",
       "39   ID890116976    49 Gowrie St      4    h  1137500  04-06-2016         1   \n",
       "98   ID540451567  60A Kennedy St      3    t   935000  03-06-2017         2   \n",
       "\n",
       "     Car  Landsize  Age  Lattitude  Longtitude          suburb  \n",
       "0      2       338  119  -37.81065   145.17309      NUNAWADING  \n",
       "372    1       903   34  -37.80640   145.18452      NUNAWADING  \n",
       "1      2       208   24  -37.91080   145.07940  BENTLEIGH EAST  \n",
       "39     2       696    7  -37.91570   145.08020  BENTLEIGH EAST  \n",
       "98     2       244   19  -37.92030   145.08074  BENTLEIGH EAST  "
      ]
     },
     "execution_count": 261,
     "metadata": {},
     "output_type": "execute_result"
    }
   ],
   "source": [
    "datawithsuburb_f.head()"
   ]
  },
  {
   "cell_type": "markdown",
   "metadata": {},
   "source": [
    "## 2.Finding associated crime type average \n",
    " \n",
    "Reading data for crime by location, followed by data cleaning steps.\n",
    "\n",
    "1> Clean the crime data \n",
    "\n",
    "2> Clean the council data\n",
    "\n",
    "3> Find the crimes A B C, average for past three years for purchases in 2016\n",
    "\n",
    "4> Find the crimes A B C, average for past three years for purchases in 2017\n",
    "\n",
    "5> Add this to original data"
   ]
  },
  {
   "cell_type": "code",
   "execution_count": 20,
   "metadata": {},
   "outputs": [],
   "source": [
    "xlsx = pd.ExcelFile('crimebylocationdatatable-yearending31march2016.xlsx')"
   ]
  },
  {
   "cell_type": "code",
   "execution_count": 22,
   "metadata": {},
   "outputs": [],
   "source": [
    "#reading sheet 2 of the file\n",
    "sheet2 = xlsx.parse(1)"
   ]
  },
  {
   "cell_type": "code",
   "execution_count": 24,
   "metadata": {},
   "outputs": [],
   "source": [
    "#dropping unwanted columns\n",
    "pos = [0,1,2,3,4,5,6,7,8,9,10,11,12,13,14,15,16]\n",
    "sheet2.drop(sheet2.index[pos], inplace=True)"
   ]
  },
  {
   "cell_type": "code",
   "execution_count": 25,
   "metadata": {},
   "outputs": [
    {
     "data": {
      "text/html": [
       "<div>\n",
       "<style scoped>\n",
       "    .dataframe tbody tr th:only-of-type {\n",
       "        vertical-align: middle;\n",
       "    }\n",
       "\n",
       "    .dataframe tbody tr th {\n",
       "        vertical-align: top;\n",
       "    }\n",
       "\n",
       "    .dataframe thead th {\n",
       "        text-align: right;\n",
       "    }\n",
       "</style>\n",
       "<table border=\"1\" class=\"dataframe\">\n",
       "  <thead>\n",
       "    <tr style=\"text-align: right;\">\n",
       "      <th></th>\n",
       "      <th>Unnamed: 0</th>\n",
       "      <th>Unnamed: 1</th>\n",
       "      <th>Unnamed: 2</th>\n",
       "      <th>Unnamed: 3</th>\n",
       "      <th>Unnamed: 4</th>\n",
       "      <th>Unnamed: 5</th>\n",
       "      <th>Unnamed: 6</th>\n",
       "      <th>Unnamed: 7</th>\n",
       "      <th>Unnamed: 8</th>\n",
       "      <th>Unnamed: 9</th>\n",
       "    </tr>\n",
       "  </thead>\n",
       "  <tbody>\n",
       "    <tr>\n",
       "      <th>17</th>\n",
       "      <td>NaN</td>\n",
       "      <td>Apr - Mar reference period</td>\n",
       "      <td>Police Region</td>\n",
       "      <td>Police Service Area</td>\n",
       "      <td>Local Government Area</td>\n",
       "      <td>CSA Offence Division</td>\n",
       "      <td>CSA Offence Subdivision</td>\n",
       "      <td>Offence Count</td>\n",
       "      <td>LGA ERP</td>\n",
       "      <td>Victorian ERP</td>\n",
       "    </tr>\n",
       "    <tr>\n",
       "      <th>18</th>\n",
       "      <td>NaN</td>\n",
       "      <td>2012</td>\n",
       "      <td>1 North West Metro</td>\n",
       "      <td>BANYULE</td>\n",
       "      <td>BANYULE</td>\n",
       "      <td>A Crimes against the person</td>\n",
       "      <td>A10 Homicide and related offences</td>\n",
       "      <td>4</td>\n",
       "      <td>123600</td>\n",
       "      <td>5632521</td>\n",
       "    </tr>\n",
       "    <tr>\n",
       "      <th>19</th>\n",
       "      <td>NaN</td>\n",
       "      <td>2012</td>\n",
       "      <td>1 North West Metro</td>\n",
       "      <td>BANYULE</td>\n",
       "      <td>BANYULE</td>\n",
       "      <td>A Crimes against the person</td>\n",
       "      <td>A20 Assault and related offences</td>\n",
       "      <td>568</td>\n",
       "      <td>123600</td>\n",
       "      <td>5632521</td>\n",
       "    </tr>\n",
       "    <tr>\n",
       "      <th>20</th>\n",
       "      <td>NaN</td>\n",
       "      <td>2012</td>\n",
       "      <td>1 North West Metro</td>\n",
       "      <td>BANYULE</td>\n",
       "      <td>BANYULE</td>\n",
       "      <td>A Crimes against the person</td>\n",
       "      <td>A30 Sexual offences</td>\n",
       "      <td>132</td>\n",
       "      <td>123600</td>\n",
       "      <td>5632521</td>\n",
       "    </tr>\n",
       "    <tr>\n",
       "      <th>21</th>\n",
       "      <td>NaN</td>\n",
       "      <td>2012</td>\n",
       "      <td>1 North West Metro</td>\n",
       "      <td>BANYULE</td>\n",
       "      <td>BANYULE</td>\n",
       "      <td>A Crimes against the person</td>\n",
       "      <td>A40 Abduction and related offences</td>\n",
       "      <td>12</td>\n",
       "      <td>123600</td>\n",
       "      <td>5632521</td>\n",
       "    </tr>\n",
       "  </tbody>\n",
       "</table>\n",
       "</div>"
      ],
      "text/plain": [
       "    Unnamed: 0                  Unnamed: 1          Unnamed: 2  \\\n",
       "17         NaN  Apr - Mar reference period       Police Region   \n",
       "18         NaN                        2012  1 North West Metro   \n",
       "19         NaN                        2012  1 North West Metro   \n",
       "20         NaN                        2012  1 North West Metro   \n",
       "21         NaN                        2012  1 North West Metro   \n",
       "\n",
       "             Unnamed: 3             Unnamed: 4                   Unnamed: 5  \\\n",
       "17  Police Service Area  Local Government Area         CSA Offence Division   \n",
       "18              BANYULE                BANYULE  A Crimes against the person   \n",
       "19              BANYULE                BANYULE  A Crimes against the person   \n",
       "20              BANYULE                BANYULE  A Crimes against the person   \n",
       "21              BANYULE                BANYULE  A Crimes against the person   \n",
       "\n",
       "                            Unnamed: 6     Unnamed: 7 Unnamed: 8  \\\n",
       "17             CSA Offence Subdivision  Offence Count    LGA ERP   \n",
       "18   A10 Homicide and related offences              4     123600   \n",
       "19    A20 Assault and related offences            568     123600   \n",
       "20                 A30 Sexual offences            132     123600   \n",
       "21  A40 Abduction and related offences             12     123600   \n",
       "\n",
       "       Unnamed: 9  \n",
       "17  Victorian ERP  \n",
       "18        5632521  \n",
       "19        5632521  \n",
       "20        5632521  \n",
       "21        5632521  "
      ]
     },
     "execution_count": 25,
     "metadata": {},
     "output_type": "execute_result"
    }
   ],
   "source": [
    "sheet2.head()"
   ]
  },
  {
   "cell_type": "code",
   "execution_count": 26,
   "metadata": {},
   "outputs": [],
   "source": [
    "#dropping unwanted columns\n",
    "sheet2.drop(sheet2.columns[[0,2,3,6,8,9]], axis=1, inplace=True)"
   ]
  },
  {
   "cell_type": "code",
   "execution_count": 28,
   "metadata": {},
   "outputs": [],
   "source": [
    "#selecting and renaming wanted columns\n",
    "sheet2.columns=['period', 'local_govt', 'offence', 'offence_cnt']"
   ]
  },
  {
   "cell_type": "code",
   "execution_count": 30,
   "metadata": {},
   "outputs": [],
   "source": [
    "#creating copy\n",
    "local_govt = sheet2.copy()\n",
    "#sheet2 = local_govt.copy()"
   ]
  },
  {
   "cell_type": "code",
   "execution_count": 31,
   "metadata": {},
   "outputs": [],
   "source": [
    "#dropping firt column\n",
    "pos = [0]\n",
    "sheet2.drop(sheet2.index[pos], inplace=True)"
   ]
  },
  {
   "cell_type": "code",
   "execution_count": 252,
   "metadata": {},
   "outputs": [
    {
     "data": {
      "text/html": [
       "<div>\n",
       "<style scoped>\n",
       "    .dataframe tbody tr th:only-of-type {\n",
       "        vertical-align: middle;\n",
       "    }\n",
       "\n",
       "    .dataframe tbody tr th {\n",
       "        vertical-align: top;\n",
       "    }\n",
       "\n",
       "    .dataframe thead th {\n",
       "        text-align: right;\n",
       "    }\n",
       "</style>\n",
       "<table border=\"1\" class=\"dataframe\">\n",
       "  <thead>\n",
       "    <tr style=\"text-align: right;\">\n",
       "      <th></th>\n",
       "      <th>period</th>\n",
       "      <th>local_govt</th>\n",
       "      <th>offence</th>\n",
       "      <th>offence_cnt</th>\n",
       "    </tr>\n",
       "  </thead>\n",
       "  <tbody>\n",
       "    <tr>\n",
       "      <th>18</th>\n",
       "      <td>2012</td>\n",
       "      <td>BANYULE</td>\n",
       "      <td>A Crimes against the person</td>\n",
       "      <td>4</td>\n",
       "    </tr>\n",
       "    <tr>\n",
       "      <th>19</th>\n",
       "      <td>2012</td>\n",
       "      <td>BANYULE</td>\n",
       "      <td>A Crimes against the person</td>\n",
       "      <td>568</td>\n",
       "    </tr>\n",
       "    <tr>\n",
       "      <th>20</th>\n",
       "      <td>2012</td>\n",
       "      <td>BANYULE</td>\n",
       "      <td>A Crimes against the person</td>\n",
       "      <td>132</td>\n",
       "    </tr>\n",
       "    <tr>\n",
       "      <th>21</th>\n",
       "      <td>2012</td>\n",
       "      <td>BANYULE</td>\n",
       "      <td>A Crimes against the person</td>\n",
       "      <td>12</td>\n",
       "    </tr>\n",
       "    <tr>\n",
       "      <th>22</th>\n",
       "      <td>2012</td>\n",
       "      <td>BANYULE</td>\n",
       "      <td>A Crimes against the person</td>\n",
       "      <td>46</td>\n",
       "    </tr>\n",
       "  </tbody>\n",
       "</table>\n",
       "</div>"
      ],
      "text/plain": [
       "   period local_govt                      offence offence_cnt\n",
       "18   2012    BANYULE  A Crimes against the person           4\n",
       "19   2012    BANYULE  A Crimes against the person         568\n",
       "20   2012    BANYULE  A Crimes against the person         132\n",
       "21   2012    BANYULE  A Crimes against the person          12\n",
       "22   2012    BANYULE  A Crimes against the person          46"
      ]
     },
     "execution_count": 252,
     "metadata": {},
     "output_type": "execute_result"
    }
   ],
   "source": [
    "sheet2.head()"
   ]
  },
  {
   "cell_type": "markdown",
   "metadata": {},
   "source": [
    "### Reading council data as it will be used to map local govt body and suburb \n",
    "\n"
   ]
  },
  {
   "cell_type": "code",
   "execution_count": 34,
   "metadata": {},
   "outputs": [],
   "source": [
    "councils = pd.read_csv('councils.txt', sep=\":\", header=None)\n",
    "councils.columns = [\"local_govt\", \"suburb_list\"]"
   ]
  },
  {
   "cell_type": "code",
   "execution_count": 45,
   "metadata": {},
   "outputs": [
    {
     "data": {
      "text/html": [
       "<div>\n",
       "<style scoped>\n",
       "    .dataframe tbody tr th:only-of-type {\n",
       "        vertical-align: middle;\n",
       "    }\n",
       "\n",
       "    .dataframe tbody tr th {\n",
       "        vertical-align: top;\n",
       "    }\n",
       "\n",
       "    .dataframe thead th {\n",
       "        text-align: right;\n",
       "    }\n",
       "</style>\n",
       "<table border=\"1\" class=\"dataframe\">\n",
       "  <thead>\n",
       "    <tr style=\"text-align: right;\">\n",
       "      <th></th>\n",
       "      <th>local_govt</th>\n",
       "      <th>0</th>\n",
       "    </tr>\n",
       "  </thead>\n",
       "  <tbody>\n",
       "    <tr>\n",
       "      <th>0</th>\n",
       "      <td>BANYULE</td>\n",
       "      <td>'Abbotsford'</td>\n",
       "    </tr>\n",
       "    <tr>\n",
       "      <th>1</th>\n",
       "      <td>BANYULE</td>\n",
       "      <td>'Airport West'</td>\n",
       "    </tr>\n",
       "    <tr>\n",
       "      <th>2</th>\n",
       "      <td>BANYULE</td>\n",
       "      <td>'Albert Park'</td>\n",
       "    </tr>\n",
       "    <tr>\n",
       "      <th>3</th>\n",
       "      <td>BANYULE</td>\n",
       "      <td>'Alphington'</td>\n",
       "    </tr>\n",
       "    <tr>\n",
       "      <th>0</th>\n",
       "      <td>BRIMBANK</td>\n",
       "      <td>'Altona'</td>\n",
       "    </tr>\n",
       "  </tbody>\n",
       "</table>\n",
       "</div>"
      ],
      "text/plain": [
       "  local_govt                0\n",
       "0   BANYULE      'Abbotsford'\n",
       "1   BANYULE    'Airport West'\n",
       "2   BANYULE     'Albert Park'\n",
       "3   BANYULE      'Alphington'\n",
       "0  BRIMBANK          'Altona'"
      ]
     },
     "execution_count": 45,
     "metadata": {},
     "output_type": "execute_result"
    }
   ],
   "source": [
    "councils.head()"
   ]
  },
  {
   "cell_type": "code",
   "execution_count": 42,
   "metadata": {},
   "outputs": [],
   "source": [
    "#cleaning council data\n",
    "for i in range(len(councils)):\n",
    "    councils.suburb_list.iloc[i] = councils.suburb_list.iloc[i].replace(\"[\", \"\")\n",
    "    councils.suburb_list.iloc[i] = councils.suburb_list.iloc[i].replace(\"]\", \"\")\n",
    "    councils.suburb_list.iloc[i] = councils.suburb_list.iloc[i].strip()\n",
    "    "
   ]
  },
  {
   "cell_type": "code",
   "execution_count": 44,
   "metadata": {},
   "outputs": [],
   "source": [
    "#https://stackoverflow.com/questions/41244981/extract-comma-separated-values-to-individual-rows-in-pandas\n",
    "councils = councils.set_index('local_govt').suburb_list.str.split(',', expand=True).stack().reset_index('local_govt')\n"
   ]
  },
  {
   "cell_type": "code",
   "execution_count": 46,
   "metadata": {},
   "outputs": [],
   "source": [
    "#renaming council data\n",
    "councils = councils.rename(columns={0:'suburb'})\\\n",
    "  .reset_index(drop=True)"
   ]
  },
  {
   "cell_type": "code",
   "execution_count": 61,
   "metadata": {},
   "outputs": [],
   "source": [
    "#cleaning council data\n",
    "for i in range(len(councils)):\n",
    "    councils.suburb.iloc[i] = councils.suburb.iloc[i].replace(\"'\", \"\")\n",
    "    councils.suburb.iloc[i] = councils.suburb.iloc[i].strip()\n",
    "    councils.local_govt.iloc[i] = councils.local_govt.iloc[i].strip()\n",
    "    "
   ]
  },
  {
   "cell_type": "code",
   "execution_count": 62,
   "metadata": {},
   "outputs": [],
   "source": [
    "for i in range(len(sheet2)):\n",
    "    sheet2.local_govt.iloc[i] = sheet2.local_govt.iloc[i].strip()"
   ]
  },
  {
   "cell_type": "code",
   "execution_count": 149,
   "metadata": {},
   "outputs": [],
   "source": [
    "local_govt_sub = pd.merge(sheet2, councils,  how='left', left_on=['local_govt'], right_on = ['local_govt'])"
   ]
  },
  {
   "cell_type": "markdown",
   "metadata": {},
   "source": [
    "The crime rate is calculated by creating columns, 2017 and 2016 as purchases were made only in these two years.\n",
    "The difference of these two year is calculated with crime year respectively.\n",
    "Only the rows which are 1,2,3 are selected\n",
    "Dataframe for 2016 and 2017 is separated and crime avergae is calculated by aggregating at year, local government level."
   ]
  },
  {
   "cell_type": "code",
   "execution_count": 150,
   "metadata": {},
   "outputs": [],
   "source": [
    "#creating dummy columns to represent purchase year\n",
    "local_govt_sub['Year16'] = 2016\n",
    "local_govt_sub['Year17'] = 2017"
   ]
  },
  {
   "cell_type": "code",
   "execution_count": 151,
   "metadata": {},
   "outputs": [],
   "source": [
    "#taking difference\n",
    "local_govt_sub['16_diff'] = local_govt_sub['Year16'] - local_govt_sub['period']\n",
    "local_govt_sub['17_diff'] = local_govt_sub['Year17'] - local_govt_sub['period']"
   ]
  },
  {
   "cell_type": "code",
   "execution_count": 207,
   "metadata": {},
   "outputs": [],
   "source": [
    "#selecting rows which have difference as 1,2,3 only \n",
    "valid_diff=[1,2,3]\n",
    "local_govt_sub16 = local_govt_sub[local_govt_sub['16_diff'].isin(valid_diff)]\n",
    "local_govt_sub17 = local_govt_sub[local_govt_sub['17_diff'].isin(valid_diff)]"
   ]
  },
  {
   "cell_type": "code",
   "execution_count": 167,
   "metadata": {},
   "outputs": [],
   "source": [
    "#rolling up 2016 data, and calculating offence average\n",
    "local_govt_sub_16 = local_govt_sub16.drop(columns=['period', 'suburb', 'Year17', '16_diff', '17_diff'])\n",
    "local_govt_sub_16[\"offence_cnt\"] = pd.to_numeric(local_govt_sub_16[\"offence_cnt\"])\n",
    "local_govt_sub_161 = local_govt_sub_16.groupby(['local_govt', 'offence', 'Year16']).agg({'offence_cnt':'mean'}).reset_index()\n"
   ]
  },
  {
   "cell_type": "code",
   "execution_count": 230,
   "metadata": {},
   "outputs": [],
   "source": [
    "#rolling up 2017 data, and calculating offence average\n",
    "local_govt_sub_17 = local_govt_sub17.drop(columns=['period', 'suburb', 'Year16', '16_diff', '17_diff'])\n",
    "local_govt_sub_17[\"offence_cnt\"] = pd.to_numeric(local_govt_sub_17[\"offence_cnt\"])\n",
    "local_govt_sub_171 = local_govt_sub_17.groupby(['local_govt', 'offence', 'Year17']).agg({'offence_cnt':'mean'}).reset_index()\n"
   ]
  },
  {
   "cell_type": "code",
   "execution_count": 231,
   "metadata": {},
   "outputs": [],
   "source": [
    "# creating dummy variables to represent crimetype\n",
    "local_govt_sub_161['Crimetype'] = 0\n",
    "local_govt_sub_171['Crimetype'] = 0"
   ]
  },
  {
   "cell_type": "code",
   "execution_count": 178,
   "metadata": {
    "collapsed": true
   },
   "outputs": [
    {
     "name": "stderr",
     "output_type": "stream",
     "text": [
      "C:\\Users\\Stephy\\Anaconda3\\lib\\site-packages\\pandas\\core\\indexing.py:189: SettingWithCopyWarning: \n",
      "A value is trying to be set on a copy of a slice from a DataFrame\n",
      "\n",
      "See the caveats in the documentation: http://pandas.pydata.org/pandas-docs/stable/indexing.html#indexing-view-versus-copy\n",
      "  self._setitem_with_indexer(indexer, value)\n"
     ]
    }
   ],
   "source": [
    "#stripping and extracting the first alphabet of crime type\n",
    "for i in range(len(local_govt_sub_161)):\n",
    "    local_govt_sub_161.offence.iloc[i] = local_govt_sub_161.offence.iloc[i].strip()\n",
    "    local_govt_sub_161['Crimetype'].iloc[i] = local_govt_sub_161['offence'].iloc[i][0]\n"
   ]
  },
  {
   "cell_type": "code",
   "execution_count": 232,
   "metadata": {
    "collapsed": true
   },
   "outputs": [
    {
     "name": "stderr",
     "output_type": "stream",
     "text": [
      "C:\\Users\\Stephy\\Anaconda3\\lib\\site-packages\\pandas\\core\\indexing.py:189: SettingWithCopyWarning: \n",
      "A value is trying to be set on a copy of a slice from a DataFrame\n",
      "\n",
      "See the caveats in the documentation: http://pandas.pydata.org/pandas-docs/stable/indexing.html#indexing-view-versus-copy\n",
      "  self._setitem_with_indexer(indexer, value)\n"
     ]
    }
   ],
   "source": [
    "#stripping and extracting the first alphabet of crime type\n",
    "for i in range(len(local_govt_sub_171)):\n",
    "    local_govt_sub_171.offence.iloc[i] = local_govt_sub_171.offence.iloc[i].strip()\n",
    "    local_govt_sub_171['Crimetype'].iloc[i] = local_govt_sub_171['offence'].iloc[i][0]"
   ]
  },
  {
   "cell_type": "code",
   "execution_count": 237,
   "metadata": {},
   "outputs": [
    {
     "data": {
      "text/html": [
       "<div>\n",
       "<style scoped>\n",
       "    .dataframe tbody tr th:only-of-type {\n",
       "        vertical-align: middle;\n",
       "    }\n",
       "\n",
       "    .dataframe tbody tr th {\n",
       "        vertical-align: top;\n",
       "    }\n",
       "\n",
       "    .dataframe thead th {\n",
       "        text-align: right;\n",
       "    }\n",
       "</style>\n",
       "<table border=\"1\" class=\"dataframe\">\n",
       "  <thead>\n",
       "    <tr style=\"text-align: right;\">\n",
       "      <th></th>\n",
       "      <th>local_govt</th>\n",
       "      <th>offence</th>\n",
       "      <th>Year17</th>\n",
       "      <th>offence_cnt</th>\n",
       "      <th>Crimetype</th>\n",
       "    </tr>\n",
       "  </thead>\n",
       "  <tbody>\n",
       "    <tr>\n",
       "      <th>0</th>\n",
       "      <td>ALPINE</td>\n",
       "      <td>A Crimes against the person</td>\n",
       "      <td>2017</td>\n",
       "      <td>19.785714</td>\n",
       "      <td>A</td>\n",
       "    </tr>\n",
       "    <tr>\n",
       "      <th>1</th>\n",
       "      <td>ALPINE</td>\n",
       "      <td>B Property and deception offences</td>\n",
       "      <td>2017</td>\n",
       "      <td>52.000000</td>\n",
       "      <td>B</td>\n",
       "    </tr>\n",
       "    <tr>\n",
       "      <th>2</th>\n",
       "      <td>ALPINE</td>\n",
       "      <td>C Drug offences</td>\n",
       "      <td>2017</td>\n",
       "      <td>11.000000</td>\n",
       "      <td>C</td>\n",
       "    </tr>\n",
       "    <tr>\n",
       "      <th>3</th>\n",
       "      <td>ALPINE</td>\n",
       "      <td>D Public order and security offences</td>\n",
       "      <td>2017</td>\n",
       "      <td>30.444444</td>\n",
       "      <td>D</td>\n",
       "    </tr>\n",
       "    <tr>\n",
       "      <th>4</th>\n",
       "      <td>ALPINE</td>\n",
       "      <td>E Justice procedures offences</td>\n",
       "      <td>2017</td>\n",
       "      <td>20.000000</td>\n",
       "      <td>E</td>\n",
       "    </tr>\n",
       "  </tbody>\n",
       "</table>\n",
       "</div>"
      ],
      "text/plain": [
       "  local_govt                               offence  Year17  offence_cnt  \\\n",
       "0     ALPINE           A Crimes against the person    2017    19.785714   \n",
       "1     ALPINE     B Property and deception offences    2017    52.000000   \n",
       "2     ALPINE                       C Drug offences    2017    11.000000   \n",
       "3     ALPINE  D Public order and security offences    2017    30.444444   \n",
       "4     ALPINE         E Justice procedures offences    2017    20.000000   \n",
       "\n",
       "  Crimetype  \n",
       "0         A  \n",
       "1         B  \n",
       "2         C  \n",
       "3         D  \n",
       "4         E  "
      ]
     },
     "execution_count": 237,
     "metadata": {},
     "output_type": "execute_result"
    }
   ],
   "source": [
    "local_govt_sub_171.head()"
   ]
  },
  {
   "cell_type": "code",
   "execution_count": 239,
   "metadata": {
    "collapsed": true
   },
   "outputs": [
    {
     "name": "stderr",
     "output_type": "stream",
     "text": [
      "C:\\Users\\Stephy\\Anaconda3\\lib\\site-packages\\ipykernel_launcher.py:1: FutureWarning: Sorting because non-concatenation axis is not aligned. A future version\n",
      "of pandas will change to not sort by default.\n",
      "\n",
      "To accept the future behavior, pass 'sort=True'.\n",
      "\n",
      "To retain the current behavior and silence the warning, pass sort=False\n",
      "\n",
      "  \"\"\"Entry point for launching an IPython kernel.\n"
     ]
    }
   ],
   "source": [
    "#joining 2016 and 2017 data\n",
    "final_crime_data = pd.concat([local_govt_sub_161, local_govt_sub_171])"
   ]
  },
  {
   "cell_type": "code",
   "execution_count": 276,
   "metadata": {},
   "outputs": [],
   "source": [
    "#combining to get year column from the dummy year column\n",
    "final_crime_data = pd.merge(final_crime_data, councils,  how='left', left_on=['local_govt'], right_on = ['local_govt'])\n",
    "final_crime_data['Year16'] = final_crime_data['Year16'].fillna('') \n",
    "final_crime_data['Year17'] = final_crime_data['Year17'].fillna('')\n",
    "final_crime_data['year'] = final_crime_data['Year16'].map(str) + final_crime_data['Year17'].map(str)\n"
   ]
  },
  {
   "cell_type": "code",
   "execution_count": 288,
   "metadata": {},
   "outputs": [],
   "source": [
    "final_crime_data['year']  = pd.to_numeric(final_crime_data['year'])\n",
    "final_crime_data['year']  = int(final_crime_data['year'])\n",
    "final_crime_data['year'] = final_crime_data['year'].astype('int') "
   ]
  },
  {
   "cell_type": "code",
   "execution_count": 290,
   "metadata": {},
   "outputs": [
    {
     "data": {
      "text/html": [
       "<div>\n",
       "<style scoped>\n",
       "    .dataframe tbody tr th:only-of-type {\n",
       "        vertical-align: middle;\n",
       "    }\n",
       "\n",
       "    .dataframe tbody tr th {\n",
       "        vertical-align: top;\n",
       "    }\n",
       "\n",
       "    .dataframe thead th {\n",
       "        text-align: right;\n",
       "    }\n",
       "</style>\n",
       "<table border=\"1\" class=\"dataframe\">\n",
       "  <thead>\n",
       "    <tr style=\"text-align: right;\">\n",
       "      <th></th>\n",
       "      <th>Crimetype</th>\n",
       "      <th>Year16</th>\n",
       "      <th>Year17</th>\n",
       "      <th>local_govt</th>\n",
       "      <th>offence</th>\n",
       "      <th>offence_cnt</th>\n",
       "      <th>suburb</th>\n",
       "      <th>year</th>\n",
       "    </tr>\n",
       "  </thead>\n",
       "  <tbody>\n",
       "    <tr>\n",
       "      <th>0</th>\n",
       "      <td>A</td>\n",
       "      <td>2016</td>\n",
       "      <td></td>\n",
       "      <td>ALPINE</td>\n",
       "      <td>A Crimes against the person</td>\n",
       "      <td>17.466667</td>\n",
       "      <td>Ivanhoe East</td>\n",
       "      <td>2016</td>\n",
       "    </tr>\n",
       "    <tr>\n",
       "      <th>1</th>\n",
       "      <td>A</td>\n",
       "      <td>2016</td>\n",
       "      <td></td>\n",
       "      <td>ALPINE</td>\n",
       "      <td>A Crimes against the person</td>\n",
       "      <td>17.466667</td>\n",
       "      <td>Jacana</td>\n",
       "      <td>2016</td>\n",
       "    </tr>\n",
       "    <tr>\n",
       "      <th>2</th>\n",
       "      <td>A</td>\n",
       "      <td>2016</td>\n",
       "      <td></td>\n",
       "      <td>ALPINE</td>\n",
       "      <td>A Crimes against the person</td>\n",
       "      <td>17.466667</td>\n",
       "      <td>Kingsbury</td>\n",
       "      <td>2016</td>\n",
       "    </tr>\n",
       "    <tr>\n",
       "      <th>3</th>\n",
       "      <td>A</td>\n",
       "      <td>2016</td>\n",
       "      <td></td>\n",
       "      <td>ALPINE</td>\n",
       "      <td>A Crimes against the person</td>\n",
       "      <td>17.466667</td>\n",
       "      <td>Kingsville</td>\n",
       "      <td>2016</td>\n",
       "    </tr>\n",
       "    <tr>\n",
       "      <th>4</th>\n",
       "      <td>B</td>\n",
       "      <td>2016</td>\n",
       "      <td></td>\n",
       "      <td>ALPINE</td>\n",
       "      <td>B Property and deception offences</td>\n",
       "      <td>50.400000</td>\n",
       "      <td>Ivanhoe East</td>\n",
       "      <td>2016</td>\n",
       "    </tr>\n",
       "  </tbody>\n",
       "</table>\n",
       "</div>"
      ],
      "text/plain": [
       "  Crimetype Year16 Year17 local_govt                            offence  \\\n",
       "0         A   2016            ALPINE        A Crimes against the person   \n",
       "1         A   2016            ALPINE        A Crimes against the person   \n",
       "2         A   2016            ALPINE        A Crimes against the person   \n",
       "3         A   2016            ALPINE        A Crimes against the person   \n",
       "4         B   2016            ALPINE  B Property and deception offences   \n",
       "\n",
       "   offence_cnt        suburb  year  \n",
       "0    17.466667  Ivanhoe East  2016  \n",
       "1    17.466667        Jacana  2016  \n",
       "2    17.466667     Kingsbury  2016  \n",
       "3    17.466667    Kingsville  2016  \n",
       "4    50.400000  Ivanhoe East  2016  "
      ]
     },
     "execution_count": 290,
     "metadata": {},
     "output_type": "execute_result"
    }
   ],
   "source": [
    "final_crime_data.head()"
   ]
  },
  {
   "cell_type": "code",
   "execution_count": 291,
   "metadata": {},
   "outputs": [],
   "source": [
    "#separating the data by crime type\n",
    "final_crime_dataA = final_crime_data[final_crime_data.Crimetype=='A']\n",
    "final_crime_dataB = final_crime_data[final_crime_data.Crimetype=='B']\n",
    "final_crime_dataC = final_crime_data[final_crime_data.Crimetype=='C']"
   ]
  },
  {
   "cell_type": "code",
   "execution_count": 302,
   "metadata": {},
   "outputs": [
    {
     "name": "stderr",
     "output_type": "stream",
     "text": [
      "C:\\Users\\Stephy\\Anaconda3\\lib\\site-packages\\pandas\\core\\generic.py:4401: SettingWithCopyWarning: \n",
      "A value is trying to be set on a copy of a slice from a DataFrame.\n",
      "Try using .loc[row_indexer,col_indexer] = value instead\n",
      "\n",
      "See the caveats in the documentation: http://pandas.pydata.org/pandas-docs/stable/indexing.html#indexing-view-versus-copy\n",
      "  self[name] = value\n"
     ]
    }
   ],
   "source": [
    "#ref https://stackoverflow.com/questions/31269216/applying-uppercase-to-a-column-in-pandas-dataframe\n",
    "#changing suburb to upper case to join later on \n",
    "final_crime_dataA.suburb = final_crime_dataA.suburb.str.upper()\n",
    "final_crime_dataB.suburb = final_crime_dataB.suburb.str.upper()\n",
    "final_crime_dataC.suburb = final_crime_dataC.suburb.str.upper()"
   ]
  },
  {
   "cell_type": "code",
   "execution_count": 265,
   "metadata": {
    "scrolled": true
   },
   "outputs": [
    {
     "data": {
      "text/html": [
       "<div>\n",
       "<style scoped>\n",
       "    .dataframe tbody tr th:only-of-type {\n",
       "        vertical-align: middle;\n",
       "    }\n",
       "\n",
       "    .dataframe tbody tr th {\n",
       "        vertical-align: top;\n",
       "    }\n",
       "\n",
       "    .dataframe thead th {\n",
       "        text-align: right;\n",
       "    }\n",
       "</style>\n",
       "<table border=\"1\" class=\"dataframe\">\n",
       "  <thead>\n",
       "    <tr style=\"text-align: right;\">\n",
       "      <th></th>\n",
       "      <th>ID</th>\n",
       "      <th>Address</th>\n",
       "      <th>Rooms</th>\n",
       "      <th>Type</th>\n",
       "      <th>Price</th>\n",
       "      <th>Date</th>\n",
       "      <th>Bathroom</th>\n",
       "      <th>Car</th>\n",
       "      <th>Landsize</th>\n",
       "      <th>Age</th>\n",
       "      <th>Lattitude</th>\n",
       "      <th>Longtitude</th>\n",
       "      <th>suburb</th>\n",
       "      <th>year</th>\n",
       "    </tr>\n",
       "  </thead>\n",
       "  <tbody>\n",
       "    <tr>\n",
       "      <th>0</th>\n",
       "      <td>ID677505543</td>\n",
       "      <td>1A Thelma St</td>\n",
       "      <td>4</td>\n",
       "      <td>t</td>\n",
       "      <td>950000</td>\n",
       "      <td>03-06-2017</td>\n",
       "      <td>2</td>\n",
       "      <td>2</td>\n",
       "      <td>338</td>\n",
       "      <td>119</td>\n",
       "      <td>-37.81065</td>\n",
       "      <td>145.17309</td>\n",
       "      <td>NUNAWADING</td>\n",
       "      <td>2017</td>\n",
       "    </tr>\n",
       "    <tr>\n",
       "      <th>372</th>\n",
       "      <td>ID356980044</td>\n",
       "      <td>3/39 Lemon Gr</td>\n",
       "      <td>2</td>\n",
       "      <td>u</td>\n",
       "      <td>710000</td>\n",
       "      <td>26-08-2017</td>\n",
       "      <td>1</td>\n",
       "      <td>1</td>\n",
       "      <td>903</td>\n",
       "      <td>34</td>\n",
       "      <td>-37.80640</td>\n",
       "      <td>145.18452</td>\n",
       "      <td>NUNAWADING</td>\n",
       "      <td>2017</td>\n",
       "    </tr>\n",
       "    <tr>\n",
       "      <th>1</th>\n",
       "      <td>ID424069898</td>\n",
       "      <td>2/5 Pell St</td>\n",
       "      <td>3</td>\n",
       "      <td>t</td>\n",
       "      <td>882000</td>\n",
       "      <td>27-06-2016</td>\n",
       "      <td>2</td>\n",
       "      <td>2</td>\n",
       "      <td>208</td>\n",
       "      <td>24</td>\n",
       "      <td>-37.91080</td>\n",
       "      <td>145.07940</td>\n",
       "      <td>BENTLEIGH EAST</td>\n",
       "      <td>2016</td>\n",
       "    </tr>\n",
       "    <tr>\n",
       "      <th>39</th>\n",
       "      <td>ID890116976</td>\n",
       "      <td>49 Gowrie St</td>\n",
       "      <td>4</td>\n",
       "      <td>h</td>\n",
       "      <td>1137500</td>\n",
       "      <td>04-06-2016</td>\n",
       "      <td>1</td>\n",
       "      <td>2</td>\n",
       "      <td>696</td>\n",
       "      <td>7</td>\n",
       "      <td>-37.91570</td>\n",
       "      <td>145.08020</td>\n",
       "      <td>BENTLEIGH EAST</td>\n",
       "      <td>2016</td>\n",
       "    </tr>\n",
       "    <tr>\n",
       "      <th>98</th>\n",
       "      <td>ID540451567</td>\n",
       "      <td>60A Kennedy St</td>\n",
       "      <td>3</td>\n",
       "      <td>t</td>\n",
       "      <td>935000</td>\n",
       "      <td>03-06-2017</td>\n",
       "      <td>2</td>\n",
       "      <td>2</td>\n",
       "      <td>244</td>\n",
       "      <td>19</td>\n",
       "      <td>-37.92030</td>\n",
       "      <td>145.08074</td>\n",
       "      <td>BENTLEIGH EAST</td>\n",
       "      <td>2017</td>\n",
       "    </tr>\n",
       "  </tbody>\n",
       "</table>\n",
       "</div>"
      ],
      "text/plain": [
       "              ID         Address  Rooms Type    Price        Date  Bathroom  \\\n",
       "0    ID677505543    1A Thelma St      4    t   950000  03-06-2017         2   \n",
       "372  ID356980044   3/39 Lemon Gr      2    u   710000  26-08-2017         1   \n",
       "1    ID424069898     2/5 Pell St      3    t   882000  27-06-2016         2   \n",
       "39   ID890116976    49 Gowrie St      4    h  1137500  04-06-2016         1   \n",
       "98   ID540451567  60A Kennedy St      3    t   935000  03-06-2017         2   \n",
       "\n",
       "     Car  Landsize  Age  Lattitude  Longtitude          suburb  year  \n",
       "0      2       338  119  -37.81065   145.17309      NUNAWADING  2017  \n",
       "372    1       903   34  -37.80640   145.18452      NUNAWADING  2017  \n",
       "1      2       208   24  -37.91080   145.07940  BENTLEIGH EAST  2016  \n",
       "39     2       696    7  -37.91570   145.08020  BENTLEIGH EAST  2016  \n",
       "98     2       244   19  -37.92030   145.08074  BENTLEIGH EAST  2017  "
      ]
     },
     "execution_count": 265,
     "metadata": {},
     "output_type": "execute_result"
    }
   ],
   "source": [
    "#last final data, with suburb information\n",
    "datawithsuburb_f.head()\n",
    "#adding year to it \n",
    "datawithsuburb_f['year'] = pd.DatetimeIndex(datawithsuburb_f['Date']).year"
   ]
  },
  {
   "cell_type": "code",
   "execution_count": 303,
   "metadata": {},
   "outputs": [],
   "source": [
    "#adding crime A average to the data \n",
    "datawithsuburb_fA = pd.merge(datawithsuburb_f, final_crime_dataA,  how='left', left_on=['suburb', 'year'], right_on = ['suburb', 'year'])\n",
    "datawithsuburb_fA = datawithsuburb_fA.drop(columns=['Year16', 'Year17', 'local_govt', 'offence', 'Crimetype'])\n",
    "datawithsuburb_fA = datawithsuburb_fA.rename(columns={'offence_cnt': 'crime_A_average'})"
   ]
  },
  {
   "cell_type": "code",
   "execution_count": 316,
   "metadata": {},
   "outputs": [],
   "source": [
    "#adding crime B average to the data \n",
    "datawithsuburb_fB = pd.merge(datawithsuburb_fA, final_crime_dataB,  how='left', left_on=['suburb', 'year'], right_on = ['suburb', 'year'])\n",
    "datawithsuburb_fB = datawithsuburb_fB.drop(columns=['Year16', 'Year17', 'local_govt', 'offence', 'Crimetype'])\n",
    "datawithsuburb_fB = datawithsuburb_fB.rename(columns={'offence_cnt': 'crime_B_average'})"
   ]
  },
  {
   "cell_type": "code",
   "execution_count": 322,
   "metadata": {},
   "outputs": [],
   "source": [
    "#adding crime C average to the data \n",
    "datawithsuburb_fC= pd.merge(datawithsuburb_fB, final_crime_dataC,  how='left', left_on=['suburb', 'year'], right_on = ['suburb', 'year'])\n",
    "datawithsuburb_fC= datawithsuburb_fC.drop(columns=['Year16', 'Year17', 'local_govt', 'offence', 'Crimetype'])\n",
    "datawithsuburb_fC = datawithsuburb_fC.rename(columns={'offence_cnt': 'crime_C_average'})"
   ]
  },
  {
   "cell_type": "code",
   "execution_count": 327,
   "metadata": {},
   "outputs": [
    {
     "data": {
      "text/plain": [
       "0"
      ]
     },
     "execution_count": 327,
     "metadata": {},
     "output_type": "execute_result"
    }
   ],
   "source": [
    "datawithsuburb_fC.isnull().sum().sum()"
   ]
  },
  {
   "cell_type": "markdown",
   "metadata": {},
   "source": [
    "## 3.Finding nearest train stop, distance and assocaited min travel time to cbd"
   ]
  },
  {
   "cell_type": "markdown",
   "metadata": {},
   "source": [
    "Reading data file from the GTFS data.\n",
    "The data consistes of information regaring train schedule in folder 1(regional) and folder 2(metro)\n",
    "\n",
    "Steps:\n",
    "\n",
    "1> Read the relevant data files from GTFS folder. THis includes trip data, calendar data, stops data, stoptime data and route data. These files are read only from folder 1 and 2 as they currespond to Metro and Regional train details. Concat the two sets of data and merge based on relevant join key.\n",
    "\n",
    "2> Filter the trip_ids that run on all weekdays\n",
    "\n",
    "3> Filter the trips which have Southern Cross as stop_id\n",
    "\n",
    "4> Based on these trip_ids, filter the original data\n",
    "\n",
    "5> Now filter the trip_ids that run between 7:00AM to 9:30AM \n",
    "\n",
    "6> Now add arrival time to this dataset from the southern cross dataset \n",
    "\n",
    "7> Filter the data where arrival time is greater than departure time\n",
    "\n",
    "These are the most relevant trip_ids as they meet the criteria for direct trip to Southern Cross on all weekdays between 7:00AM to 9:30 AM.\n",
    "\n",
    "8> Based on the stop_ids from these trip_ids, Calculate the minimum distance from address latitude longitude to the stop latitude longitude\n",
    "\n",
    "9> The curresponding stop ID would be the nearest station and minimum distance would be the distance to the train station.\n",
    "\n",
    "10> Now take the difference of arrival time and departure time and aggregate it at stop_id level to get the average time of all the trips satisfying base criteria from given stop id"
   ]
  },
  {
   "cell_type": "code",
   "execution_count": 414,
   "metadata": {},
   "outputs": [],
   "source": [
    "#train stop ID\n",
    "#1 regional\n",
    "#2 metro\n",
    "\n",
    "#trip detail\n",
    "trips_1=pd.read_csv(\"./gtfs/1/google_transit/trips.txt\")\n",
    "trips_2=pd.read_csv(\"./gtfs/2/google_transit/trips.txt\")\n",
    "\n",
    "#calendar details for trips \n",
    "calendar_1=pd.read_csv(\"./gtfs/1/google_transit/calendar.txt\")\n",
    "calendar_2=pd.read_csv(\"./gtfs/2/google_transit/calendar.txt\")\n",
    "\n",
    "#stop details for trips\n",
    "stops_1=pd.read_csv(\"./gtfs/1/google_transit/stops.txt\")\n",
    "stops_2=pd.read_csv(\"./gtfs/2/google_transit/stops.txt\")\n",
    "\n",
    "#stop time details for trips\n",
    "stoptime_1=pd.read_csv(\"./gtfs/1/google_transit/stop_times.txt\")\n",
    "stoptime_2=pd.read_csv(\"./gtfs/2/google_transit/stop_times.txt\")\n",
    "\n",
    "#route details for trips \n",
    "routes_1=pd.read_csv(\"./gtfs/1/google_transit/routes.txt\")\n",
    "routes_2=pd.read_csv(\"./gtfs/2/google_transit/routes.txt\")\n",
    "\n",
    "#concatenating regional and metro data\n",
    "trips=pd.concat([trips_1,trips_2])\n",
    "stops=pd.concat([stops_1,stops_2])\n",
    "stoptime=pd.concat([stoptime_1,stoptime_2])\n",
    "routes=pd.concat([routes_1,routes_2])\n",
    "calendar=pd.concat([calendar_1,calendar_2])\n",
    "\n"
   ]
  },
  {
   "cell_type": "code",
   "execution_count": 415,
   "metadata": {},
   "outputs": [],
   "source": [
    "#merging data frames\n",
    "stop_stoptime = pd.merge(stops,stoptime,on='stop_id',how='inner')\n",
    "stop_stoptime_trip = pd.merge(stop_stoptime,trips,on='trip_id',how='inner')\n",
    "stop_stoptime_trip_cal = pd.merge(stop_stoptime_trip,calendar,on='service_id',how='inner')\n",
    "stop_stoptime_trip_cal_route = pd.merge(stop_stoptime_trip_cal,routes,on='route_id',how='inner')"
   ]
  },
  {
   "cell_type": "code",
   "execution_count": 419,
   "metadata": {},
   "outputs": [],
   "source": [
    "#applying the conditions for nearest staion ID\n",
    "#1. Direct trip to southern cross on weekdays (and condition)\n",
    "#2  departure from 7-9:30"
   ]
  },
  {
   "cell_type": "code",
   "execution_count": 420,
   "metadata": {},
   "outputs": [],
   "source": [
    "#filtering for weekdays as only the trains running on weekday is not considered\n",
    "stop_stoptime_trip_cal_route['weekday_flg'] = 0\n",
    "\n",
    "stop_stoptime_trip_cal_route['weekday_flg'] = stop_stoptime_trip_cal_route['monday']+\\\n",
    "stop_stoptime_trip_cal_route['tuesday']+\\\n",
    "stop_stoptime_trip_cal_route['wednesday']+\\\n",
    "stop_stoptime_trip_cal_route['thursday']+\\\n",
    "stop_stoptime_trip_cal_route['friday']"
   ]
  },
  {
   "cell_type": "code",
   "execution_count": 421,
   "metadata": {
    "collapsed": true
   },
   "outputs": [
    {
     "data": {
      "text/plain": [
       "stop_id                108167\n",
       "stop_name              108167\n",
       "stop_lat               108167\n",
       "stop_lon               108167\n",
       "trip_id                108167\n",
       "arrival_time           108167\n",
       "departure_time         108167\n",
       "stop_sequence          108167\n",
       "stop_headsign               0\n",
       "pickup_type            108167\n",
       "drop_off_type          108167\n",
       "shape_dist_traveled    108167\n",
       "route_id               108167\n",
       "service_id             108167\n",
       "shape_id               108167\n",
       "trip_headsign          108167\n",
       "direction_id           108167\n",
       "monday                 108167\n",
       "tuesday                108167\n",
       "wednesday              108167\n",
       "thursday               108167\n",
       "friday                 108167\n",
       "saturday               108167\n",
       "sunday                 108167\n",
       "start_date             108167\n",
       "end_date               108167\n",
       "agency_id                   0\n",
       "route_short_name        88366\n",
       "route_long_name        108167\n",
       "route_type             108167\n",
       "route_color            108167\n",
       "route_text_color       108167\n",
       "weekday_flg            108167\n",
       "dtype: int64"
      ]
     },
     "execution_count": 421,
     "metadata": {},
     "output_type": "execute_result"
    }
   ],
   "source": [
    "#only those data points are required which are running on all weekday\n",
    "stop_stoptime_trip_cal_route[stop_stoptime_trip_cal_route['weekday_flg'] == 5].count()"
   ]
  },
  {
   "cell_type": "code",
   "execution_count": 432,
   "metadata": {},
   "outputs": [],
   "source": [
    "weekday_trips = stop_stoptime_trip_cal_route[stop_stoptime_trip_cal_route['weekday_flg'] == 5]"
   ]
  },
  {
   "cell_type": "code",
   "execution_count": 445,
   "metadata": {
    "collapsed": true
   },
   "outputs": [
    {
     "data": {
      "text/plain": [
       "stop_id                 325\n",
       "stop_name               309\n",
       "stop_lat                315\n",
       "stop_lon                315\n",
       "trip_id                3764\n",
       "arrival_time           1285\n",
       "departure_time         1285\n",
       "stop_sequence            32\n",
       "stop_headsign             0\n",
       "pickup_type               2\n",
       "drop_off_type             2\n",
       "shape_dist_traveled    1869\n",
       "route_id                 76\n",
       "service_id                4\n",
       "shape_id                864\n",
       "trip_headsign            33\n",
       "direction_id              2\n",
       "monday                    1\n",
       "tuesday                   1\n",
       "wednesday                 1\n",
       "thursday                  1\n",
       "friday                    1\n",
       "saturday                  1\n",
       "sunday                    1\n",
       "start_date                5\n",
       "end_date                  4\n",
       "agency_id                 0\n",
       "route_short_name         16\n",
       "route_long_name          31\n",
       "route_type                1\n",
       "route_color               2\n",
       "route_text_color          1\n",
       "weekday_flg               1\n",
       "dtype: int64"
      ]
     },
     "execution_count": 445,
     "metadata": {},
     "output_type": "execute_result"
    }
   ],
   "source": [
    "weekday_trips.nunique()"
   ]
  },
  {
   "cell_type": "code",
   "execution_count": 462,
   "metadata": {},
   "outputs": [],
   "source": [
    "#filtering data point for s\n",
    "SC_trips=weekday_trips[(weekday_trips['stop_id']==20043) | (weekday_trips['stop_id']==22180)]\n",
    "SC_trips_trip_id=SC_trips[['trip_id']]\n",
    "SC_trips_trip_id_list = SC_trips_trip_id[\"trip_id\"].tolist()\n",
    "weekday_SC = weekday_trips[weekday_trips['trip_id'].isin(SC_trips_trip_id_list)]\n",
    "weekday_SC_morn = weekday_SC[(weekday_SC[\"departure_time\"]>=\"07:00:00\") & (dummy5[\"departure_time\"]<=\"09:30:00\")]\n",
    "weekday_SC_morn"
   ]
  },
  {
   "cell_type": "code",
   "execution_count": 479,
   "metadata": {},
   "outputs": [],
   "source": [
    "datatillnow = datawithsuburb_fC.copy()"
   ]
  },
  {
   "cell_type": "code",
   "execution_count": 626,
   "metadata": {},
   "outputs": [],
   "source": [
    "#All stops that have direct train to SC, weekday, 7-9:30\n",
    "STOPS_dept = weekday_SC_morn.loc[:,['stop_id', 'trip_id', 'departure_time','stop_name']]\n",
    "#Trips for southern cross\n",
    "SC_stop_time=stoptime[(stoptime['stop_id']==20043) | (stoptime['stop_id']==22180)]\n",
    "SC_arrival = SC_stop_time.loc[:,['stop_id', 'trip_id', 'arrival_time']]\n",
    "ARR_DEPT = pd.merge(STOPS_dept,SC_arrival,on='trip_id',how='inner')"
   ]
  },
  {
   "cell_type": "code",
   "execution_count": 640,
   "metadata": {},
   "outputs": [],
   "source": [
    "#Taking only trips that are running towards Southern Cross\n",
    "ARR_DEPT1 = ARR_DEPT[ARR_DEPT['arrival_time'] >= ARR_DEPT['departure_time']]"
   ]
  },
  {
   "cell_type": "code",
   "execution_count": 653,
   "metadata": {},
   "outputs": [],
   "source": [
    "valid_stop_list = ARR_DEPT1['stop_id_x'].tolist()"
   ]
  },
  {
   "cell_type": "code",
   "execution_count": 654,
   "metadata": {},
   "outputs": [],
   "source": [
    "valid_stops = weekday_SC_morn[weekday_SC_morn['stop_id'].isin(valid_stop_list)]"
   ]
  },
  {
   "cell_type": "code",
   "execution_count": 657,
   "metadata": {
    "collapsed": true
   },
   "outputs": [
    {
     "data": {
      "text/plain": [
       "stop_id      287\n",
       "stop_name    271\n",
       "stop_lat     277\n",
       "stop_lon     277\n",
       "dtype: int64"
      ]
     },
     "execution_count": 657,
     "metadata": {},
     "output_type": "execute_result"
    }
   ],
   "source": [
    "all_SC_trips_stop_id.nunique()"
   ]
  },
  {
   "cell_type": "code",
   "execution_count": 656,
   "metadata": {},
   "outputs": [],
   "source": [
    "all_SC_trips_stop_id = valid_stops.loc[:,['stop_id', 'stop_name', 'stop_lat', 'stop_lon']]"
   ]
  },
  {
   "cell_type": "code",
   "execution_count": 658,
   "metadata": {},
   "outputs": [],
   "source": [
    "#Calculating distance \n",
    "def distance(lat1,lon1,lat2,lon2):\n",
    "    radius = 6378.0  # km\n",
    "\n",
    "    dlat = math.radians(lat2 - lat1)\n",
    "    dlon = math.radians(lon2 - lon1)\n",
    "    a = (math.sin(dlat / 2) * math.sin(dlat / 2) +\n",
    "         math.cos(math.radians(lat1)) * math.cos(math.radians(lat2)) *\n",
    "         math.sin(dlon / 2) * math.sin(dlon / 2))\n",
    "    c = 2 * math.atan2(math.sqrt(a), math.sqrt(1 - a))\n",
    "    d = radius * c\n",
    "    d = d*1000\n",
    "    return d"
   ]
  },
  {
   "cell_type": "code",
   "execution_count": 659,
   "metadata": {},
   "outputs": [],
   "source": [
    "#Output for distance and train stop ID\n",
    "for i,j in datawithsuburb_fC.iterrows():\n",
    "    dist = []\n",
    "    stop_id = []\n",
    "    for x,y in all_SC_trips_stop_id.iterrows():\n",
    "        d = distance(float(j[\"Lattitude\"]),float(j[\"Longtitude\"]),float(y[\"stop_lat\"]),float(y[\"stop_lon\"]))\n",
    "        dist.append(d)\n",
    "        stop_id.append(y[\"stop_id\"])\n",
    "    min_dist = np.argmin(dist)\n",
    "    datawithsuburb_fC.loc[i,\"train_station_id\"] = stop_id[min_dist]\n",
    "    datawithsuburb_fC.loc[i,\"distance_to_train_stat\"] = dist[min_dist]"
   ]
  },
  {
   "cell_type": "code",
   "execution_count": 662,
   "metadata": {
    "collapsed": true
   },
   "outputs": [
    {
     "data": {
      "text/plain": [
       "ID                        683\n",
       "Address                   682\n",
       "Rooms                       7\n",
       "Type                        3\n",
       "Price                     432\n",
       "Date                       56\n",
       "Bathroom                    7\n",
       "Car                         8\n",
       "Landsize                  427\n",
       "Age                        75\n",
       "Lattitude                 639\n",
       "Longtitude                642\n",
       "suburb                    189\n",
       "year                        2\n",
       "crime_A_average           101\n",
       "crime_B_average           101\n",
       "crime_C_average            99\n",
       "train_station_id          165\n",
       "distance_to_train_stat    680\n",
       "dtype: int64"
      ]
     },
     "execution_count": 662,
     "metadata": {},
     "output_type": "execute_result"
    }
   ],
   "source": [
    "datawithsuburb_fC.nunique()"
   ]
  },
  {
   "cell_type": "code",
   "execution_count": 665,
   "metadata": {
    "collapsed": true
   },
   "outputs": [
    {
     "name": "stderr",
     "output_type": "stream",
     "text": [
      "C:\\Users\\Stephy\\Anaconda3\\lib\\site-packages\\ipykernel_launcher.py:1: SettingWithCopyWarning: \n",
      "A value is trying to be set on a copy of a slice from a DataFrame.\n",
      "Try using .loc[row_indexer,col_indexer] = value instead\n",
      "\n",
      "See the caveats in the documentation: http://pandas.pydata.org/pandas-docs/stable/indexing.html#indexing-view-versus-copy\n",
      "  \"\"\"Entry point for launching an IPython kernel.\n",
      "C:\\Users\\Stephy\\Anaconda3\\lib\\site-packages\\ipykernel_launcher.py:2: SettingWithCopyWarning: \n",
      "A value is trying to be set on a copy of a slice from a DataFrame.\n",
      "Try using .loc[row_indexer,col_indexer] = value instead\n",
      "\n",
      "See the caveats in the documentation: http://pandas.pydata.org/pandas-docs/stable/indexing.html#indexing-view-versus-copy\n",
      "  \n"
     ]
    }
   ],
   "source": [
    "ARR_DEPT1[\"Time\"] = abs(pd.to_datetime(ARR_DEPT1['arrival_time']) - pd.to_datetime(ARR_DEPT1['departure_time']))\n",
    "ARR_DEPT1[\"travel_min_to_CBD\"] = (ARR_DEPT1[\"Time\"].dt.total_seconds())/60"
   ]
  },
  {
   "cell_type": "code",
   "execution_count": 667,
   "metadata": {},
   "outputs": [],
   "source": [
    "#Taking mean of the travel time from a station to SC\n",
    "time_data = ARR_DEPT1[[\"stop_id_x\",\"stop_name\",\"travel_min_to_CBD\"]]\n",
    "time_data_mean = time_data.groupby(\"stop_id_x\").agg({\"travel_min_to_CBD\":\"mean\"}).reset_index()"
   ]
  },
  {
   "cell_type": "code",
   "execution_count": 669,
   "metadata": {
    "collapsed": true
   },
   "outputs": [
    {
     "data": {
      "text/html": [
       "<div>\n",
       "<style scoped>\n",
       "    .dataframe tbody tr th:only-of-type {\n",
       "        vertical-align: middle;\n",
       "    }\n",
       "\n",
       "    .dataframe tbody tr th {\n",
       "        vertical-align: top;\n",
       "    }\n",
       "\n",
       "    .dataframe thead th {\n",
       "        text-align: right;\n",
       "    }\n",
       "</style>\n",
       "<table border=\"1\" class=\"dataframe\">\n",
       "  <thead>\n",
       "    <tr style=\"text-align: right;\">\n",
       "      <th></th>\n",
       "      <th>stop_id_x</th>\n",
       "      <th>travel_min_to_CBD</th>\n",
       "    </tr>\n",
       "  </thead>\n",
       "  <tbody>\n",
       "    <tr>\n",
       "      <th>256</th>\n",
       "      <td>22180</td>\n",
       "      <td>0.000000</td>\n",
       "    </tr>\n",
       "    <tr>\n",
       "      <th>193</th>\n",
       "      <td>20043</td>\n",
       "      <td>0.000000</td>\n",
       "    </tr>\n",
       "    <tr>\n",
       "      <th>16</th>\n",
       "      <td>19854</td>\n",
       "      <td>3.180645</td>\n",
       "    </tr>\n",
       "    <tr>\n",
       "      <th>3</th>\n",
       "      <td>19841</td>\n",
       "      <td>3.407821</td>\n",
       "    </tr>\n",
       "    <tr>\n",
       "      <th>257</th>\n",
       "      <td>22238</td>\n",
       "      <td>3.500000</td>\n",
       "    </tr>\n",
       "    <tr>\n",
       "      <th>4</th>\n",
       "      <td>19842</td>\n",
       "      <td>4.744444</td>\n",
       "    </tr>\n",
       "    <tr>\n",
       "      <th>5</th>\n",
       "      <td>19843</td>\n",
       "      <td>6.100559</td>\n",
       "    </tr>\n",
       "    <tr>\n",
       "      <th>127</th>\n",
       "      <td>19973</td>\n",
       "      <td>6.250000</td>\n",
       "    </tr>\n",
       "    <tr>\n",
       "      <th>178</th>\n",
       "      <td>20026</td>\n",
       "      <td>6.400000</td>\n",
       "    </tr>\n",
       "    <tr>\n",
       "      <th>258</th>\n",
       "      <td>22239</td>\n",
       "      <td>7.000000</td>\n",
       "    </tr>\n",
       "    <tr>\n",
       "      <th>133</th>\n",
       "      <td>19979</td>\n",
       "      <td>7.074074</td>\n",
       "    </tr>\n",
       "    <tr>\n",
       "      <th>132</th>\n",
       "      <td>19978</td>\n",
       "      <td>9.125000</td>\n",
       "    </tr>\n",
       "    <tr>\n",
       "      <th>66</th>\n",
       "      <td>19908</td>\n",
       "      <td>9.538462</td>\n",
       "    </tr>\n",
       "    <tr>\n",
       "      <th>262</th>\n",
       "      <td>22247</td>\n",
       "      <td>10.000000</td>\n",
       "    </tr>\n",
       "    <tr>\n",
       "      <th>259</th>\n",
       "      <td>22240</td>\n",
       "      <td>10.142857</td>\n",
       "    </tr>\n",
       "    <tr>\n",
       "      <th>177</th>\n",
       "      <td>20025</td>\n",
       "      <td>10.189189</td>\n",
       "    </tr>\n",
       "    <tr>\n",
       "      <th>131</th>\n",
       "      <td>19977</td>\n",
       "      <td>10.235294</td>\n",
       "    </tr>\n",
       "    <tr>\n",
       "      <th>151</th>\n",
       "      <td>19997</td>\n",
       "      <td>10.357143</td>\n",
       "    </tr>\n",
       "    <tr>\n",
       "      <th>150</th>\n",
       "      <td>19996</td>\n",
       "      <td>11.357143</td>\n",
       "    </tr>\n",
       "    <tr>\n",
       "      <th>65</th>\n",
       "      <td>19906</td>\n",
       "      <td>11.904762</td>\n",
       "    </tr>\n",
       "    <tr>\n",
       "      <th>130</th>\n",
       "      <td>19976</td>\n",
       "      <td>12.235294</td>\n",
       "    </tr>\n",
       "    <tr>\n",
       "      <th>113</th>\n",
       "      <td>19959</td>\n",
       "      <td>12.543860</td>\n",
       "    </tr>\n",
       "    <tr>\n",
       "      <th>129</th>\n",
       "      <td>19975</td>\n",
       "      <td>13.235294</td>\n",
       "    </tr>\n",
       "    <tr>\n",
       "      <th>112</th>\n",
       "      <td>19958</td>\n",
       "      <td>13.500000</td>\n",
       "    </tr>\n",
       "    <tr>\n",
       "      <th>64</th>\n",
       "      <td>19905</td>\n",
       "      <td>13.952381</td>\n",
       "    </tr>\n",
       "    <tr>\n",
       "      <th>149</th>\n",
       "      <td>19995</td>\n",
       "      <td>14.333333</td>\n",
       "    </tr>\n",
       "    <tr>\n",
       "      <th>128</th>\n",
       "      <td>19974</td>\n",
       "      <td>15.142857</td>\n",
       "    </tr>\n",
       "    <tr>\n",
       "      <th>111</th>\n",
       "      <td>19957</td>\n",
       "      <td>15.500000</td>\n",
       "    </tr>\n",
       "    <tr>\n",
       "      <th>63</th>\n",
       "      <td>19904</td>\n",
       "      <td>15.666667</td>\n",
       "    </tr>\n",
       "    <tr>\n",
       "      <th>260</th>\n",
       "      <td>22241</td>\n",
       "      <td>15.850000</td>\n",
       "    </tr>\n",
       "    <tr>\n",
       "      <th>...</th>\n",
       "      <td>...</td>\n",
       "      <td>...</td>\n",
       "    </tr>\n",
       "    <tr>\n",
       "      <th>251</th>\n",
       "      <td>20357</td>\n",
       "      <td>100.500000</td>\n",
       "    </tr>\n",
       "    <tr>\n",
       "      <th>195</th>\n",
       "      <td>20289</td>\n",
       "      <td>110.000000</td>\n",
       "    </tr>\n",
       "    <tr>\n",
       "      <th>255</th>\n",
       "      <td>20362</td>\n",
       "      <td>110.000000</td>\n",
       "    </tr>\n",
       "    <tr>\n",
       "      <th>221</th>\n",
       "      <td>20317</td>\n",
       "      <td>113.750000</td>\n",
       "    </tr>\n",
       "    <tr>\n",
       "      <th>202</th>\n",
       "      <td>20297</td>\n",
       "      <td>114.000000</td>\n",
       "    </tr>\n",
       "    <tr>\n",
       "      <th>245</th>\n",
       "      <td>20350</td>\n",
       "      <td>115.000000</td>\n",
       "    </tr>\n",
       "    <tr>\n",
       "      <th>201</th>\n",
       "      <td>20296</td>\n",
       "      <td>117.750000</td>\n",
       "    </tr>\n",
       "    <tr>\n",
       "      <th>199</th>\n",
       "      <td>20294</td>\n",
       "      <td>120.000000</td>\n",
       "    </tr>\n",
       "    <tr>\n",
       "      <th>231</th>\n",
       "      <td>20328</td>\n",
       "      <td>121.000000</td>\n",
       "    </tr>\n",
       "    <tr>\n",
       "      <th>233</th>\n",
       "      <td>20332</td>\n",
       "      <td>122.000000</td>\n",
       "    </tr>\n",
       "    <tr>\n",
       "      <th>208</th>\n",
       "      <td>20304</td>\n",
       "      <td>128.000000</td>\n",
       "    </tr>\n",
       "    <tr>\n",
       "      <th>216</th>\n",
       "      <td>20312</td>\n",
       "      <td>131.000000</td>\n",
       "    </tr>\n",
       "    <tr>\n",
       "      <th>232</th>\n",
       "      <td>20330</td>\n",
       "      <td>132.250000</td>\n",
       "    </tr>\n",
       "    <tr>\n",
       "      <th>279</th>\n",
       "      <td>47642</td>\n",
       "      <td>134.000000</td>\n",
       "    </tr>\n",
       "    <tr>\n",
       "      <th>246</th>\n",
       "      <td>20351</td>\n",
       "      <td>141.500000</td>\n",
       "    </tr>\n",
       "    <tr>\n",
       "      <th>194</th>\n",
       "      <td>20288</td>\n",
       "      <td>144.000000</td>\n",
       "    </tr>\n",
       "    <tr>\n",
       "      <th>248</th>\n",
       "      <td>20353</td>\n",
       "      <td>144.000000</td>\n",
       "    </tr>\n",
       "    <tr>\n",
       "      <th>213</th>\n",
       "      <td>20309</td>\n",
       "      <td>147.000000</td>\n",
       "    </tr>\n",
       "    <tr>\n",
       "      <th>240</th>\n",
       "      <td>20339</td>\n",
       "      <td>161.000000</td>\n",
       "    </tr>\n",
       "    <tr>\n",
       "      <th>200</th>\n",
       "      <td>20295</td>\n",
       "      <td>161.000000</td>\n",
       "    </tr>\n",
       "    <tr>\n",
       "      <th>215</th>\n",
       "      <td>20311</td>\n",
       "      <td>170.000000</td>\n",
       "    </tr>\n",
       "    <tr>\n",
       "      <th>210</th>\n",
       "      <td>20306</td>\n",
       "      <td>176.000000</td>\n",
       "    </tr>\n",
       "    <tr>\n",
       "      <th>239</th>\n",
       "      <td>20338</td>\n",
       "      <td>184.000000</td>\n",
       "    </tr>\n",
       "    <tr>\n",
       "      <th>250</th>\n",
       "      <td>20356</td>\n",
       "      <td>186.000000</td>\n",
       "    </tr>\n",
       "    <tr>\n",
       "      <th>243</th>\n",
       "      <td>20345</td>\n",
       "      <td>204.000000</td>\n",
       "    </tr>\n",
       "    <tr>\n",
       "      <th>237</th>\n",
       "      <td>20336</td>\n",
       "      <td>204.000000</td>\n",
       "    </tr>\n",
       "    <tr>\n",
       "      <th>214</th>\n",
       "      <td>20310</td>\n",
       "      <td>207.000000</td>\n",
       "    </tr>\n",
       "    <tr>\n",
       "      <th>252</th>\n",
       "      <td>20358</td>\n",
       "      <td>210.000000</td>\n",
       "    </tr>\n",
       "    <tr>\n",
       "      <th>206</th>\n",
       "      <td>20302</td>\n",
       "      <td>214.000000</td>\n",
       "    </tr>\n",
       "    <tr>\n",
       "      <th>222</th>\n",
       "      <td>20318</td>\n",
       "      <td>233.000000</td>\n",
       "    </tr>\n",
       "  </tbody>\n",
       "</table>\n",
       "<p>287 rows × 2 columns</p>\n",
       "</div>"
      ],
      "text/plain": [
       "     stop_id_x  travel_min_to_CBD\n",
       "256      22180           0.000000\n",
       "193      20043           0.000000\n",
       "16       19854           3.180645\n",
       "3        19841           3.407821\n",
       "257      22238           3.500000\n",
       "4        19842           4.744444\n",
       "5        19843           6.100559\n",
       "127      19973           6.250000\n",
       "178      20026           6.400000\n",
       "258      22239           7.000000\n",
       "133      19979           7.074074\n",
       "132      19978           9.125000\n",
       "66       19908           9.538462\n",
       "262      22247          10.000000\n",
       "259      22240          10.142857\n",
       "177      20025          10.189189\n",
       "131      19977          10.235294\n",
       "151      19997          10.357143\n",
       "150      19996          11.357143\n",
       "65       19906          11.904762\n",
       "130      19976          12.235294\n",
       "113      19959          12.543860\n",
       "129      19975          13.235294\n",
       "112      19958          13.500000\n",
       "64       19905          13.952381\n",
       "149      19995          14.333333\n",
       "128      19974          15.142857\n",
       "111      19957          15.500000\n",
       "63       19904          15.666667\n",
       "260      22241          15.850000\n",
       "..         ...                ...\n",
       "251      20357         100.500000\n",
       "195      20289         110.000000\n",
       "255      20362         110.000000\n",
       "221      20317         113.750000\n",
       "202      20297         114.000000\n",
       "245      20350         115.000000\n",
       "201      20296         117.750000\n",
       "199      20294         120.000000\n",
       "231      20328         121.000000\n",
       "233      20332         122.000000\n",
       "208      20304         128.000000\n",
       "216      20312         131.000000\n",
       "232      20330         132.250000\n",
       "279      47642         134.000000\n",
       "246      20351         141.500000\n",
       "194      20288         144.000000\n",
       "248      20353         144.000000\n",
       "213      20309         147.000000\n",
       "240      20339         161.000000\n",
       "200      20295         161.000000\n",
       "215      20311         170.000000\n",
       "210      20306         176.000000\n",
       "239      20338         184.000000\n",
       "250      20356         186.000000\n",
       "243      20345         204.000000\n",
       "237      20336         204.000000\n",
       "214      20310         207.000000\n",
       "252      20358         210.000000\n",
       "206      20302         214.000000\n",
       "222      20318         233.000000\n",
       "\n",
       "[287 rows x 2 columns]"
      ]
     },
     "execution_count": 669,
     "metadata": {},
     "output_type": "execute_result"
    }
   ],
   "source": [
    "time_data_mean.sort_values('travel_min_to_CBD')"
   ]
  },
  {
   "cell_type": "code",
   "execution_count": 675,
   "metadata": {},
   "outputs": [],
   "source": [
    "final1 = pd.merge(datawithsuburb_fC,time_data_mean,left_on='train_station_id',right_on = \"stop_id_x\",how='left')"
   ]
  },
  {
   "cell_type": "code",
   "execution_count": 676,
   "metadata": {},
   "outputs": [],
   "source": [
    "time_data_mean.to_csv(\"time_stop.csv\")"
   ]
  },
  {
   "cell_type": "markdown",
   "metadata": {},
   "source": [
    "###  4. Over priced\n",
    "\n",
    "This column is useful in identifying if a property's price is greater that the median price of other properties in the same suburb. This is calculated by grouping based on suburb, type, rooms, bathroom, car and year. Then finding if a property price is greater than median price. "
   ]
  },
  {
   "cell_type": "code",
   "execution_count": 677,
   "metadata": {},
   "outputs": [],
   "source": [
    "#Grouping to get median \n",
    "over_priced_med = final1.groupby(['suburb','Type','Rooms','Bathroom','Car','year']).agg({'Price':'median'}).reset_index()"
   ]
  },
  {
   "cell_type": "code",
   "execution_count": 678,
   "metadata": {},
   "outputs": [],
   "source": [
    "#Joining with main data\n",
    "final2 = pd.merge(final1, over_priced_med,  how='left', left_on=['suburb','Type','Rooms','Bathroom','Car','year'], right_on = ['suburb','Type','Rooms','Bathroom','Car','year'])"
   ]
  },
  {
   "cell_type": "code",
   "execution_count": 679,
   "metadata": {},
   "outputs": [
    {
     "name": "stderr",
     "output_type": "stream",
     "text": [
      "C:\\Users\\Stephy\\Anaconda3\\lib\\site-packages\\pandas\\core\\indexing.py:189: SettingWithCopyWarning: \n",
      "A value is trying to be set on a copy of a slice from a DataFrame\n",
      "\n",
      "See the caveats in the documentation: http://pandas.pydata.org/pandas-docs/stable/indexing.html#indexing-view-versus-copy\n",
      "  self._setitem_with_indexer(indexer, value)\n"
     ]
    }
   ],
   "source": [
    "#Flagging\n",
    "final2['over_priced?'] = -1\n",
    "for i in range(len(final2)):\n",
    "    if (final2['Price_x'].iloc[i] > final2['Price_y'].iloc[i]):\n",
    "        final2['over_priced?'].iloc[i] = 1\n",
    "    else:\n",
    "        final2['over_priced?'].iloc[i] = 0\n",
    "         "
   ]
  },
  {
   "cell_type": "code",
   "execution_count": 680,
   "metadata": {},
   "outputs": [],
   "source": [
    "final3 = final2.copy()"
   ]
  },
  {
   "cell_type": "code",
   "execution_count": 681,
   "metadata": {},
   "outputs": [
    {
     "data": {
      "text/plain": [
       "Index(['ID', 'Address', 'Rooms', 'Type', 'Price_x', 'Date', 'Bathroom', 'Car',\n",
       "       'Landsize', 'Age', 'Lattitude', 'Longtitude', 'suburb', 'year',\n",
       "       'crime_A_average', 'crime_B_average', 'crime_C_average',\n",
       "       'train_station_id', 'distance_to_train_stat', 'stop_id_x',\n",
       "       'travel_min_to_CBD', 'Price_y', 'over_priced?'],\n",
       "      dtype='object')"
      ]
     },
     "execution_count": 681,
     "metadata": {},
     "output_type": "execute_result"
    }
   ],
   "source": [
    "final3.columns"
   ]
  },
  {
   "cell_type": "code",
   "execution_count": 682,
   "metadata": {},
   "outputs": [],
   "source": [
    "final = final3.rename(columns={'Price_x':'Price', 'suburb':'Suburb', 'Lattitude':'Latitude', 'Longtitude':'Longitude'})"
   ]
  },
  {
   "cell_type": "code",
   "execution_count": 683,
   "metadata": {},
   "outputs": [
    {
     "data": {
      "text/plain": [
       "Index(['ID', 'Address', 'Rooms', 'Type', 'Price', 'Date', 'Bathroom', 'Car',\n",
       "       'Landsize', 'Age', 'Latitude', 'Longitude', 'Suburb', 'year',\n",
       "       'crime_A_average', 'crime_B_average', 'crime_C_average',\n",
       "       'train_station_id', 'distance_to_train_stat', 'stop_id_x',\n",
       "       'travel_min_to_CBD', 'Price_y', 'over_priced?'],\n",
       "      dtype='object')"
      ]
     },
     "execution_count": 683,
     "metadata": {},
     "output_type": "execute_result"
    }
   ],
   "source": [
    "final.columns"
   ]
  },
  {
   "cell_type": "code",
   "execution_count": 684,
   "metadata": {},
   "outputs": [],
   "source": [
    "final = final[['ID', 'Address', 'Suburb', 'Price', 'Type', 'Date', 'Rooms', 'Bathroom',\n",
    "                       'Car', 'Landsize', 'Age', 'Latitude', 'Longitude',\n",
    "                       'train_station_id', 'distance_to_train_stat', 'travel_min_to_CBD',\n",
    "                       'over_priced?','crime_A_average', 'crime_B_average', 'crime_C_average']]"
   ]
  },
  {
   "cell_type": "code",
   "execution_count": 685,
   "metadata": {},
   "outputs": [
    {
     "data": {
      "text/plain": [
       "(720, 20)"
      ]
     },
     "execution_count": 685,
     "metadata": {},
     "output_type": "execute_result"
    }
   ],
   "source": [
    "final.shape"
   ]
  },
  {
   "cell_type": "markdown",
   "metadata": {},
   "source": [
    "#### Saving final output"
   ]
  },
  {
   "cell_type": "code",
   "execution_count": 687,
   "metadata": {},
   "outputs": [],
   "source": [
    "final.to_csv(\"29915651_solution.csv\")"
   ]
  },
  {
   "cell_type": "code",
   "execution_count": 690,
   "metadata": {},
   "outputs": [],
   "source": [
    "final_copy = final.copy()"
   ]
  },
  {
   "cell_type": "markdown",
   "metadata": {},
   "source": [
    "# Task 2"
   ]
  },
  {
   "cell_type": "markdown",
   "metadata": {},
   "source": [
    "In this task we need to undersatnd the effect of various normalization/transformation techniques on the task2 dataset.\n",
    "We try to understand the data by plotting histogram and going through its key summary statistics"
   ]
  },
  {
   "cell_type": "code",
   "execution_count": 689,
   "metadata": {},
   "outputs": [],
   "source": [
    "task2 =  final[['Price', 'Rooms', 'crime_C_average','travel_min_to_CBD', 'Age']]"
   ]
  },
  {
   "cell_type": "code",
   "execution_count": 691,
   "metadata": {},
   "outputs": [
    {
     "data": {
      "text/html": [
       "<div>\n",
       "<style scoped>\n",
       "    .dataframe tbody tr th:only-of-type {\n",
       "        vertical-align: middle;\n",
       "    }\n",
       "\n",
       "    .dataframe tbody tr th {\n",
       "        vertical-align: top;\n",
       "    }\n",
       "\n",
       "    .dataframe thead th {\n",
       "        text-align: right;\n",
       "    }\n",
       "</style>\n",
       "<table border=\"1\" class=\"dataframe\">\n",
       "  <thead>\n",
       "    <tr style=\"text-align: right;\">\n",
       "      <th></th>\n",
       "      <th>Price</th>\n",
       "      <th>Rooms</th>\n",
       "      <th>crime_C_average</th>\n",
       "      <th>travel_min_to_CBD</th>\n",
       "      <th>Age</th>\n",
       "    </tr>\n",
       "  </thead>\n",
       "  <tbody>\n",
       "    <tr>\n",
       "      <th>count</th>\n",
       "      <td>7.200000e+02</td>\n",
       "      <td>720.000000</td>\n",
       "      <td>720.000000</td>\n",
       "      <td>720.000000</td>\n",
       "      <td>720.00000</td>\n",
       "    </tr>\n",
       "    <tr>\n",
       "      <th>mean</th>\n",
       "      <td>1.061613e+06</td>\n",
       "      <td>2.911111</td>\n",
       "      <td>139.743971</td>\n",
       "      <td>26.233401</td>\n",
       "      <td>53.88750</td>\n",
       "    </tr>\n",
       "    <tr>\n",
       "      <th>std</th>\n",
       "      <td>5.955281e+05</td>\n",
       "      <td>1.002300</td>\n",
       "      <td>118.520966</td>\n",
       "      <td>11.267677</td>\n",
       "      <td>35.62156</td>\n",
       "    </tr>\n",
       "    <tr>\n",
       "      <th>min</th>\n",
       "      <td>2.100000e+05</td>\n",
       "      <td>1.000000</td>\n",
       "      <td>2.666667</td>\n",
       "      <td>0.000000</td>\n",
       "      <td>2.00000</td>\n",
       "    </tr>\n",
       "    <tr>\n",
       "      <th>25%</th>\n",
       "      <td>6.450000e+05</td>\n",
       "      <td>2.000000</td>\n",
       "      <td>47.800000</td>\n",
       "      <td>18.333333</td>\n",
       "      <td>21.75000</td>\n",
       "    </tr>\n",
       "    <tr>\n",
       "      <th>50%</th>\n",
       "      <td>9.075000e+05</td>\n",
       "      <td>3.000000</td>\n",
       "      <td>112.777778</td>\n",
       "      <td>26.058824</td>\n",
       "      <td>49.00000</td>\n",
       "    </tr>\n",
       "    <tr>\n",
       "      <th>75%</th>\n",
       "      <td>1.337000e+06</td>\n",
       "      <td>4.000000</td>\n",
       "      <td>188.400000</td>\n",
       "      <td>33.666667</td>\n",
       "      <td>69.00000</td>\n",
       "    </tr>\n",
       "    <tr>\n",
       "      <th>max</th>\n",
       "      <td>4.275000e+06</td>\n",
       "      <td>8.000000</td>\n",
       "      <td>557.000000</td>\n",
       "      <td>68.818182</td>\n",
       "      <td>156.00000</td>\n",
       "    </tr>\n",
       "  </tbody>\n",
       "</table>\n",
       "</div>"
      ],
      "text/plain": [
       "              Price       Rooms  crime_C_average  travel_min_to_CBD        Age\n",
       "count  7.200000e+02  720.000000       720.000000         720.000000  720.00000\n",
       "mean   1.061613e+06    2.911111       139.743971          26.233401   53.88750\n",
       "std    5.955281e+05    1.002300       118.520966          11.267677   35.62156\n",
       "min    2.100000e+05    1.000000         2.666667           0.000000    2.00000\n",
       "25%    6.450000e+05    2.000000        47.800000          18.333333   21.75000\n",
       "50%    9.075000e+05    3.000000       112.777778          26.058824   49.00000\n",
       "75%    1.337000e+06    4.000000       188.400000          33.666667   69.00000\n",
       "max    4.275000e+06    8.000000       557.000000          68.818182  156.00000"
      ]
     },
     "execution_count": 691,
     "metadata": {},
     "output_type": "execute_result"
    }
   ],
   "source": [
    "task2.describe()"
   ]
  },
  {
   "cell_type": "markdown",
   "metadata": {},
   "source": [
    "It can be seen that rooms, crime_C_average, travel_min_to_CBD and age are all on differen scales hence it is very important to reshape the data for further processing for regression analysis.\n",
    "\n",
    "\n",
    "The following plots show histogram for each variable"
   ]
  },
  {
   "cell_type": "code",
   "execution_count": 695,
   "metadata": {},
   "outputs": [
    {
     "data": {
      "image/png": "[encoded data removed]",
      "text/plain": [
       "<Figure size 432x288 with 1 Axes>"
      ]
     },
     "metadata": {},
     "output_type": "display_data"
    }
   ],
   "source": [
    "plt.hist(task2['Rooms'])\n",
    "plt.show()"
   ]
  },
  {
   "cell_type": "code",
   "execution_count": 696,
   "metadata": {},
   "outputs": [
    {
     "data": {
      "image/png": "[encoded data removed]",
      "text/plain": [
       "<Figure size 432x288 with 1 Axes>"
      ]
     },
     "metadata": {},
     "output_type": "display_data"
    }
   ],
   "source": [
    "plt.hist(task2['crime_C_average'])\n",
    "plt.show()"
   ]
  },
  {
   "cell_type": "code",
   "execution_count": 697,
   "metadata": {},
   "outputs": [
    {
     "data": {
      "image/png": "[encoded data removed]",
      "text/plain": [
       "<Figure size 432x288 with 1 Axes>"
      ]
     },
     "metadata": {},
     "output_type": "display_data"
    }
   ],
   "source": [
    "plt.hist(task2['travel_min_to_CBD'])\n",
    "plt.show()"
   ]
  },
  {
   "cell_type": "code",
   "execution_count": 698,
   "metadata": {},
   "outputs": [
    {
     "data": {
      "image/png": "[encoded data removed]",
      "text/plain": [
       "<Figure size 432x288 with 1 Axes>"
      ]
     },
     "metadata": {},
     "output_type": "display_data"
    }
   ],
   "source": [
    "plt.hist(task2['Age'])\n",
    "plt.show()"
   ]
  },
  {
   "cell_type": "markdown",
   "metadata": {},
   "source": [
    "## 1.Standardization"
   ]
  },
  {
   "cell_type": "code",
   "execution_count": 746,
   "metadata": {},
   "outputs": [
    {
     "data": {
      "text/plain": [
       "array([[ 1.08714549,  0.09426924,  0.48253446,  1.8291665 ],\n",
       "       [-0.90965234,  0.09426924,  0.74896785, -0.55868764],\n",
       "       [ 0.08874657, -0.3111745 ,  0.2772184 , -0.83961165],\n",
       "       [ 1.08714549, -0.3111745 ,  0.2772184 , -1.31718248],\n",
       "       [ 0.08874657, -0.26802042,  0.45484067, -0.98007366]])"
      ]
     },
     "execution_count": 746,
     "metadata": {},
     "output_type": "execute_result"
    }
   ],
   "source": [
    "std_scale = preprocessing.StandardScaler().fit(task2[['Rooms', 'crime_C_average','travel_min_to_CBD', 'Age']])\n",
    "df_std = std_scale.transform(task2[['Rooms', 'crime_C_average','travel_min_to_CBD', 'Age']]) # an array not a df\n",
    "df_std[0:5]"
   ]
  },
  {
   "cell_type": "code",
   "execution_count": 747,
   "metadata": {},
   "outputs": [],
   "source": [
    "\n",
    "task2['S_Rooms'] = df_std[:,0] #room scaled\n",
    "task2['S_crime_C_average'] = df_std[:,1] #crime scaled\n",
    "task2['S_travel_min_to_CBD'] = df_std[:,2] #time scaled\n",
    "task2['S_Age'] = df_std[:,3] #age scaled\n"
   ]
  },
  {
   "cell_type": "code",
   "execution_count": 701,
   "metadata": {},
   "outputs": [
    {
     "data": {
      "text/html": [
       "<div>\n",
       "<style scoped>\n",
       "    .dataframe tbody tr th:only-of-type {\n",
       "        vertical-align: middle;\n",
       "    }\n",
       "\n",
       "    .dataframe tbody tr th {\n",
       "        vertical-align: top;\n",
       "    }\n",
       "\n",
       "    .dataframe thead th {\n",
       "        text-align: right;\n",
       "    }\n",
       "</style>\n",
       "<table border=\"1\" class=\"dataframe\">\n",
       "  <thead>\n",
       "    <tr style=\"text-align: right;\">\n",
       "      <th></th>\n",
       "      <th>Price</th>\n",
       "      <th>Rooms</th>\n",
       "      <th>crime_C_average</th>\n",
       "      <th>travel_min_to_CBD</th>\n",
       "      <th>Age</th>\n",
       "      <th>S_Rooms</th>\n",
       "      <th>S_crime_C_average</th>\n",
       "      <th>S_travel_min_to_CBD</th>\n",
       "      <th>S_Age</th>\n",
       "    </tr>\n",
       "  </thead>\n",
       "  <tbody>\n",
       "    <tr>\n",
       "      <th>count</th>\n",
       "      <td>7.200000e+02</td>\n",
       "      <td>720.000000</td>\n",
       "      <td>720.000000</td>\n",
       "      <td>720.000000</td>\n",
       "      <td>720.00000</td>\n",
       "      <td>7.200000e+02</td>\n",
       "      <td>7.200000e+02</td>\n",
       "      <td>7.200000e+02</td>\n",
       "      <td>7.200000e+02</td>\n",
       "    </tr>\n",
       "    <tr>\n",
       "      <th>mean</th>\n",
       "      <td>1.061613e+06</td>\n",
       "      <td>2.911111</td>\n",
       "      <td>139.743971</td>\n",
       "      <td>26.233401</td>\n",
       "      <td>53.88750</td>\n",
       "      <td>5.430841e-16</td>\n",
       "      <td>5.859510e-17</td>\n",
       "      <td>3.083953e-18</td>\n",
       "      <td>1.017704e-16</td>\n",
       "    </tr>\n",
       "    <tr>\n",
       "      <th>std</th>\n",
       "      <td>5.955281e+05</td>\n",
       "      <td>1.002300</td>\n",
       "      <td>118.520966</td>\n",
       "      <td>11.267677</td>\n",
       "      <td>35.62156</td>\n",
       "      <td>1.000695e+00</td>\n",
       "      <td>1.000695e+00</td>\n",
       "      <td>1.000695e+00</td>\n",
       "      <td>1.000695e+00</td>\n",
       "    </tr>\n",
       "    <tr>\n",
       "      <th>min</th>\n",
       "      <td>2.100000e+05</td>\n",
       "      <td>1.000000</td>\n",
       "      <td>2.666667</td>\n",
       "      <td>0.000000</td>\n",
       "      <td>2.00000</td>\n",
       "      <td>-1.908051e+00</td>\n",
       "      <td>-1.157370e+00</td>\n",
       "      <td>-2.329818e+00</td>\n",
       "      <td>-1.457644e+00</td>\n",
       "    </tr>\n",
       "    <tr>\n",
       "      <th>25%</th>\n",
       "      <td>6.450000e+05</td>\n",
       "      <td>2.000000</td>\n",
       "      <td>47.800000</td>\n",
       "      <td>18.333333</td>\n",
       "      <td>21.75000</td>\n",
       "      <td>-9.096523e-01</td>\n",
       "      <td>-7.763005e-01</td>\n",
       "      <td>-7.016140e-01</td>\n",
       "      <td>-9.028196e-01</td>\n",
       "    </tr>\n",
       "    <tr>\n",
       "      <th>50%</th>\n",
       "      <td>9.075000e+05</td>\n",
       "      <td>3.000000</td>\n",
       "      <td>112.777778</td>\n",
       "      <td>26.058824</td>\n",
       "      <td>49.00000</td>\n",
       "      <td>8.874657e-02</td>\n",
       "      <td>-2.276807e-01</td>\n",
       "      <td>-1.550443e-02</td>\n",
       "      <td>-1.373016e-01</td>\n",
       "    </tr>\n",
       "    <tr>\n",
       "      <th>75%</th>\n",
       "      <td>1.337000e+06</td>\n",
       "      <td>4.000000</td>\n",
       "      <td>188.400000</td>\n",
       "      <td>33.666667</td>\n",
       "      <td>69.00000</td>\n",
       "      <td>1.087145e+00</td>\n",
       "      <td>4.108122e-01</td>\n",
       "      <td>6.601567e-01</td>\n",
       "      <td>4.245464e-01</td>\n",
       "    </tr>\n",
       "    <tr>\n",
       "      <th>max</th>\n",
       "      <td>4.275000e+06</td>\n",
       "      <td>8.000000</td>\n",
       "      <td>557.000000</td>\n",
       "      <td>68.818182</td>\n",
       "      <td>156.00000</td>\n",
       "      <td>5.080741e+00</td>\n",
       "      <td>3.522972e+00</td>\n",
       "      <td>3.782003e+00</td>\n",
       "      <td>2.868585e+00</td>\n",
       "    </tr>\n",
       "  </tbody>\n",
       "</table>\n",
       "</div>"
      ],
      "text/plain": [
       "              Price       Rooms  crime_C_average  travel_min_to_CBD  \\\n",
       "count  7.200000e+02  720.000000       720.000000         720.000000   \n",
       "mean   1.061613e+06    2.911111       139.743971          26.233401   \n",
       "std    5.955281e+05    1.002300       118.520966          11.267677   \n",
       "min    2.100000e+05    1.000000         2.666667           0.000000   \n",
       "25%    6.450000e+05    2.000000        47.800000          18.333333   \n",
       "50%    9.075000e+05    3.000000       112.777778          26.058824   \n",
       "75%    1.337000e+06    4.000000       188.400000          33.666667   \n",
       "max    4.275000e+06    8.000000       557.000000          68.818182   \n",
       "\n",
       "             Age       S_Rooms  S_crime_C_average  S_travel_min_to_CBD  \\\n",
       "count  720.00000  7.200000e+02       7.200000e+02         7.200000e+02   \n",
       "mean    53.88750  5.430841e-16       5.859510e-17         3.083953e-18   \n",
       "std     35.62156  1.000695e+00       1.000695e+00         1.000695e+00   \n",
       "min      2.00000 -1.908051e+00      -1.157370e+00        -2.329818e+00   \n",
       "25%     21.75000 -9.096523e-01      -7.763005e-01        -7.016140e-01   \n",
       "50%     49.00000  8.874657e-02      -2.276807e-01        -1.550443e-02   \n",
       "75%     69.00000  1.087145e+00       4.108122e-01         6.601567e-01   \n",
       "max    156.00000  5.080741e+00       3.522972e+00         3.782003e+00   \n",
       "\n",
       "              S_Age  \n",
       "count  7.200000e+02  \n",
       "mean   1.017704e-16  \n",
       "std    1.000695e+00  \n",
       "min   -1.457644e+00  \n",
       "25%   -9.028196e-01  \n",
       "50%   -1.373016e-01  \n",
       "75%    4.245464e-01  \n",
       "max    2.868585e+00  "
      ]
     },
     "execution_count": 701,
     "metadata": {},
     "output_type": "execute_result"
    }
   ],
   "source": [
    "task2.describe()"
   ]
  },
  {
   "cell_type": "code",
   "execution_count": 748,
   "metadata": {},
   "outputs": [
    {
     "name": "stdout",
     "output_type": "stream",
     "text": [
      "Mean after standardisation:\n",
      "Rooms = 0.00, crime_C_average = -0.00, S_travel_min_to_CBD = 0.00, S_Age = -0.00\n",
      "\n",
      "Standard deviation after standardisation:\n",
      "Rooms = 1.00, crime_C_average = 1.00, S_travel_min_to_CBD = 1.00, S_Age = 1.00\n"
     ]
    }
   ],
   "source": [
    "print('Mean after standardisation:\\nRooms = {:.2f}, crime_C_average = {:.2f}, S_travel_min_to_CBD = {:.2f}, S_Age = {:.2f}'\n",
    "      .format(df_std[:,0].mean(), df_std[:,1].mean(), df_std[:,2].mean(), df_std[:,3].mean()))\n",
    "print('\\nStandard deviation after standardisation:\\nRooms = {:.2f}, crime_C_average = {:.2f}, S_travel_min_to_CBD = {:.2f}, S_Age = {:.2f}'\n",
    "      .format(df_std[:,0].std(), df_std[:,1].std(), df_std[:,2].std(),df_std[:,3].std()))\n"
   ]
  },
  {
   "cell_type": "code",
   "execution_count": 704,
   "metadata": {},
   "outputs": [
    {
     "data": {
      "text/plain": [
       "(<matplotlib.axes._subplots.AxesSubplot at 0x1feb0c9eb70>,\n",
       " <matplotlib.axes._subplots.AxesSubplot at 0x1feb0c9eb70>,\n",
       " <matplotlib.axes._subplots.AxesSubplot at 0x1feb0c9eb70>,\n",
       " <matplotlib.axes._subplots.AxesSubplot at 0x1feb0c9eb70>)"
      ]
     },
     "execution_count": 704,
     "metadata": {},
     "output_type": "execute_result"
    },
    {
     "data": {
      "image/png": "[encoded data removed]",
      "text/plain": [
       "<Figure size 432x288 with 1 Axes>"
      ]
     },
     "metadata": {},
     "output_type": "display_data"
    }
   ],
   "source": [
    "#comparing vaiables before and after plot \n",
    "%matplotlib inline\n",
    "\n",
    "task2[\"Rooms\"].plot(), task2[\"crime_C_average\"].plot(), task2[\"travel_min_to_CBD\"].plot(), task2[\"Age\"].plot()"
   ]
  },
  {
   "cell_type": "code",
   "execution_count": 707,
   "metadata": {},
   "outputs": [
    {
     "data": {
      "text/plain": [
       "(<matplotlib.axes._subplots.AxesSubplot at 0x1feb0d68160>,\n",
       " <matplotlib.axes._subplots.AxesSubplot at 0x1feb0d68160>,\n",
       " <matplotlib.axes._subplots.AxesSubplot at 0x1feb0d68160>,\n",
       " <matplotlib.axes._subplots.AxesSubplot at 0x1feb0d68160>)"
      ]
     },
     "execution_count": 707,
     "metadata": {},
     "output_type": "execute_result"
    },
    {
     "data": {
      "image/png": "[encoded data removed]",
      "text/plain": [
       "<Figure size 432x288 with 1 Axes>"
      ]
     },
     "metadata": {},
     "output_type": "display_data"
    }
   ],
   "source": [
    "#Now, we plot the standardized data, and observe the range and the centre of the distribution for the standardised features.\n",
    "\n",
    "task2[\"S_Rooms\"].plot(), task2[\"S_crime_C_average\"].plot(), task2[\"S_travel_min_to_CBD\"].plot(), task2[\"S_Age\"].plot()"
   ]
  },
  {
   "cell_type": "markdown",
   "metadata": {},
   "source": [
    "We can see from above graphs that both original and standardized data are in the same shape but shifted.\n",
    "\n",
    "Now comparing with columns with standardized counterpart "
   ]
  },
  {
   "cell_type": "code",
   "execution_count": 710,
   "metadata": {},
   "outputs": [
    {
     "data": {
      "text/plain": [
       "(<matplotlib.axes._subplots.AxesSubplot at 0x1feb0def4a8>,\n",
       " <matplotlib.axes._subplots.AxesSubplot at 0x1feb0def4a8>)"
      ]
     },
     "execution_count": 710,
     "metadata": {},
     "output_type": "execute_result"
    },
    {
     "data": {
      "image/png": "[encoded data removed]",
      "text/plain": [
       "<Figure size 432x288 with 1 Axes>"
      ]
     },
     "metadata": {},
     "output_type": "display_data"
    }
   ],
   "source": [
    "task2[\"S_Rooms\"].plot(), task2[\"Rooms\"].plot()"
   ]
  },
  {
   "cell_type": "code",
   "execution_count": 711,
   "metadata": {},
   "outputs": [
    {
     "data": {
      "text/plain": [
       "(<matplotlib.axes._subplots.AxesSubplot at 0x1feb0e31320>,\n",
       " <matplotlib.axes._subplots.AxesSubplot at 0x1feb0e31320>)"
      ]
     },
     "execution_count": 711,
     "metadata": {},
     "output_type": "execute_result"
    },
    {
     "data": {
      "image/png": "[encoded data removed]",
      "text/plain": [
       "<Figure size 432x288 with 1 Axes>"
      ]
     },
     "metadata": {},
     "output_type": "display_data"
    }
   ],
   "source": [
    "task2[\"S_crime_C_average\"].plot(), task2[\"crime_C_average\"].plot()"
   ]
  },
  {
   "cell_type": "code",
   "execution_count": 712,
   "metadata": {},
   "outputs": [
    {
     "data": {
      "text/plain": [
       "(<matplotlib.axes._subplots.AxesSubplot at 0x1feb0e976a0>,\n",
       " <matplotlib.axes._subplots.AxesSubplot at 0x1feb0e976a0>)"
      ]
     },
     "execution_count": 712,
     "metadata": {},
     "output_type": "execute_result"
    },
    {
     "data": {
      "image/png": "[encoded data removed]",
      "text/plain": [
       "<Figure size 432x288 with 1 Axes>"
      ]
     },
     "metadata": {},
     "output_type": "display_data"
    }
   ],
   "source": [
    "task2[\"S_travel_min_to_CBD\"].plot(), task2[\"travel_min_to_CBD\"].plot()"
   ]
  },
  {
   "cell_type": "code",
   "execution_count": 713,
   "metadata": {},
   "outputs": [
    {
     "data": {
      "text/plain": [
       "(<matplotlib.axes._subplots.AxesSubplot at 0x1feb0f01940>,\n",
       " <matplotlib.axes._subplots.AxesSubplot at 0x1feb0f01940>)"
      ]
     },
     "execution_count": 713,
     "metadata": {},
     "output_type": "execute_result"
    },
    {
     "data": {
      "image/png": "[encoded data removed]",
      "text/plain": [
       "<Figure size 432x288 with 1 Axes>"
      ]
     },
     "metadata": {},
     "output_type": "display_data"
    }
   ],
   "source": [
    "task2[\"S_Age\"].plot(), task2[\"Age\"].plot()"
   ]
  },
  {
   "cell_type": "markdown",
   "metadata": {},
   "source": [
    "## 2. Min Max Nomalization\n",
    "\n"
   ]
  },
  {
   "cell_type": "code",
   "execution_count": 715,
   "metadata": {},
   "outputs": [
    {
     "data": {
      "text/plain": [
       "array([[0.42857143, 0.2674247 , 0.46014971, 0.75974026],\n",
       "       [0.14285714, 0.2674247 , 0.50374284, 0.20779221],\n",
       "       [0.28571429, 0.18079776, 0.42655644, 0.14285714],\n",
       "       [0.42857143, 0.18079776, 0.42655644, 0.03246753],\n",
       "       [0.28571429, 0.19001804, 0.45561853, 0.11038961]])"
      ]
     },
     "execution_count": 715,
     "metadata": {},
     "output_type": "execute_result"
    }
   ],
   "source": [
    "minmax_scale = preprocessing.MinMaxScaler().fit(task2[['Rooms', 'crime_C_average','travel_min_to_CBD', 'Age']])\n",
    "df_minmax = minmax_scale.transform(task2[['Rooms', 'crime_C_average','travel_min_to_CBD', 'Age']])\n",
    "df_minmax[0:5]"
   ]
  },
  {
   "cell_type": "code",
   "execution_count": 719,
   "metadata": {
    "collapsed": true
   },
   "outputs": [
    {
     "name": "stderr",
     "output_type": "stream",
     "text": [
      "C:\\Users\\Stephy\\Anaconda3\\lib\\site-packages\\ipykernel_launcher.py:1: SettingWithCopyWarning: \n",
      "A value is trying to be set on a copy of a slice from a DataFrame.\n",
      "Try using .loc[row_indexer,col_indexer] = value instead\n",
      "\n",
      "See the caveats in the documentation: http://pandas.pydata.org/pandas-docs/stable/indexing.html#indexing-view-versus-copy\n",
      "  \"\"\"Entry point for launching an IPython kernel.\n",
      "C:\\Users\\Stephy\\Anaconda3\\lib\\site-packages\\ipykernel_launcher.py:2: SettingWithCopyWarning: \n",
      "A value is trying to be set on a copy of a slice from a DataFrame.\n",
      "Try using .loc[row_indexer,col_indexer] = value instead\n",
      "\n",
      "See the caveats in the documentation: http://pandas.pydata.org/pandas-docs/stable/indexing.html#indexing-view-versus-copy\n",
      "  \n",
      "C:\\Users\\Stephy\\Anaconda3\\lib\\site-packages\\ipykernel_launcher.py:3: SettingWithCopyWarning: \n",
      "A value is trying to be set on a copy of a slice from a DataFrame.\n",
      "Try using .loc[row_indexer,col_indexer] = value instead\n",
      "\n",
      "See the caveats in the documentation: http://pandas.pydata.org/pandas-docs/stable/indexing.html#indexing-view-versus-copy\n",
      "  This is separate from the ipykernel package so we can avoid doing imports until\n",
      "C:\\Users\\Stephy\\Anaconda3\\lib\\site-packages\\ipykernel_launcher.py:4: SettingWithCopyWarning: \n",
      "A value is trying to be set on a copy of a slice from a DataFrame.\n",
      "Try using .loc[row_indexer,col_indexer] = value instead\n",
      "\n",
      "See the caveats in the documentation: http://pandas.pydata.org/pandas-docs/stable/indexing.html#indexing-view-versus-copy\n",
      "  after removing the cwd from sys.path.\n"
     ]
    }
   ],
   "source": [
    "task2['M_Rooms'] = df_minmax[:,0] #room scaled\n",
    "task2['M_crime_C_average'] = df_minmax[:,1] #crime scaled\n",
    "task2['M_travel_min_to_CBD'] = df_minmax[:,2] #time scaled\n",
    "task2['M_Age'] = df_minmax[:,3] #age scaled"
   ]
  },
  {
   "cell_type": "code",
   "execution_count": 717,
   "metadata": {},
   "outputs": [
    {
     "name": "stdout",
     "output_type": "stream",
     "text": [
      "Min-value after min-max scaling:\n",
      "Rooms = 0.00, crime_C_average = 0.00, S_travel_min_to_CBD = 0.00, S_Age = 0.00\n",
      "\n",
      "Max-value after min-max scaling:\n",
      "Rooms = 1.00, crime_C_average = 1.00, S_travel_min_to_CBD = 1.00, S_Age = 1.00\n"
     ]
    }
   ],
   "source": [
    "print('Min-value after min-max scaling:\\nRooms = {:.2f}, crime_C_average = {:.2f}, travel_min_to_CBD = {:.2f}, Age = {:.2f}'\n",
    "      .format(df_minmax[:,0].min(), df_minmax[:,1].min(), df_minmax[:,2].min(), df_minmax[:,3].min()))\n",
    "print('\\nMax-value after min-max scaling:\\nRooms = {:.2f}, crime_C_average = {:.2f}, travel_min_to_CBD = {:.2f}, Age = {:.2f}'\n",
    "      .format(df_minmax[:,0].max(), df_minmax[:,1].max(),df_minmax[:,2].max(),df_minmax[:,3].max()))"
   ]
  },
  {
   "cell_type": "code",
   "execution_count": 720,
   "metadata": {},
   "outputs": [
    {
     "data": {
      "text/plain": [
       "(<matplotlib.axes._subplots.AxesSubplot at 0x1feb0fb1e10>,\n",
       " <matplotlib.axes._subplots.AxesSubplot at 0x1feb0fb1e10>,\n",
       " <matplotlib.axes._subplots.AxesSubplot at 0x1feb0fb1e10>,\n",
       " <matplotlib.axes._subplots.AxesSubplot at 0x1feb0fb1e10>)"
      ]
     },
     "execution_count": 720,
     "metadata": {},
     "output_type": "execute_result"
    },
    {
     "data": {
      "image/png": "[encoded data removed]",
      "text/plain": [
       "<Figure size 432x288 with 1 Axes>"
      ]
     },
     "metadata": {},
     "output_type": "display_data"
    }
   ],
   "source": [
    "#Now, we plot the normalizaed data, and observe the range and the centre of the distribution for the normalized features.\n",
    "task2[\"M_Rooms\"].plot(), task2[\"M_crime_C_average\"].plot(), task2[\"M_travel_min_to_CBD\"].plot(), task2[\"M_Age\"].plot()"
   ]
  },
  {
   "cell_type": "code",
   "execution_count": 721,
   "metadata": {},
   "outputs": [
    {
     "data": {
      "text/plain": [
       "(<matplotlib.axes._subplots.AxesSubplot at 0x1feb1feada0>,\n",
       " <matplotlib.axes._subplots.AxesSubplot at 0x1feb1feada0>)"
      ]
     },
     "execution_count": 721,
     "metadata": {},
     "output_type": "execute_result"
    },
    {
     "data": {
      "image/png": "[encoded data removed]",
      "text/plain": [
       "<Figure size 432x288 with 1 Axes>"
      ]
     },
     "metadata": {},
     "output_type": "display_data"
    }
   ],
   "source": [
    "task2[\"M_Rooms\"].plot(), task2[\"Rooms\"].plot()"
   ]
  },
  {
   "cell_type": "code",
   "execution_count": 722,
   "metadata": {},
   "outputs": [
    {
     "data": {
      "text/plain": [
       "(<matplotlib.axes._subplots.AxesSubplot at 0x1feb2040320>,\n",
       " <matplotlib.axes._subplots.AxesSubplot at 0x1feb2040320>)"
      ]
     },
     "execution_count": 722,
     "metadata": {},
     "output_type": "execute_result"
    },
    {
     "data": {
      "image/png": "[encoded data removed]",
      "text/plain": [
       "<Figure size 432x288 with 1 Axes>"
      ]
     },
     "metadata": {},
     "output_type": "display_data"
    }
   ],
   "source": [
    "task2[\"M_crime_C_average\"].plot(), task2[\"crime_C_average\"].plot()"
   ]
  },
  {
   "cell_type": "code",
   "execution_count": 723,
   "metadata": {},
   "outputs": [
    {
     "data": {
      "text/plain": [
       "(<matplotlib.axes._subplots.AxesSubplot at 0x1feb20ad4a8>,\n",
       " <matplotlib.axes._subplots.AxesSubplot at 0x1feb20ad4a8>)"
      ]
     },
     "execution_count": 723,
     "metadata": {},
     "output_type": "execute_result"
    },
    {
     "data": {
      "image/png": "[encoded data removed]",
      "text/plain": [
       "<Figure size 432x288 with 1 Axes>"
      ]
     },
     "metadata": {},
     "output_type": "display_data"
    }
   ],
   "source": [
    "task2[\"M_travel_min_to_CBD\"].plot(), task2[\"travel_min_to_CBD\"].plot()"
   ]
  },
  {
   "cell_type": "code",
   "execution_count": 724,
   "metadata": {},
   "outputs": [
    {
     "data": {
      "text/plain": [
       "(<matplotlib.axes._subplots.AxesSubplot at 0x1feb2107f98>,\n",
       " <matplotlib.axes._subplots.AxesSubplot at 0x1feb2107f98>)"
      ]
     },
     "execution_count": 724,
     "metadata": {},
     "output_type": "execute_result"
    },
    {
     "data": {
      "image/png": "[encoded data removed]",
      "text/plain": [
       "<Figure size 432x288 with 1 Axes>"
      ]
     },
     "metadata": {},
     "output_type": "display_data"
    }
   ],
   "source": [
    "task2[\"M_Age\"].plot(), task2[\"Age\"].plot()"
   ]
  },
  {
   "cell_type": "markdown",
   "metadata": {},
   "source": [
    "## 3. Root transformation"
   ]
  },
  {
   "cell_type": "code",
   "execution_count": 727,
   "metadata": {
    "collapsed": true
   },
   "outputs": [
    {
     "name": "stderr",
     "output_type": "stream",
     "text": [
      "C:\\Users\\Stephy\\Anaconda3\\lib\\site-packages\\ipykernel_launcher.py:2: SettingWithCopyWarning: \n",
      "A value is trying to be set on a copy of a slice from a DataFrame.\n",
      "Try using .loc[row_indexer,col_indexer] = value instead\n",
      "\n",
      "See the caveats in the documentation: http://pandas.pydata.org/pandas-docs/stable/indexing.html#indexing-view-versus-copy\n",
      "  \n",
      "C:\\Users\\Stephy\\Anaconda3\\lib\\site-packages\\ipykernel_launcher.py:8: SettingWithCopyWarning: \n",
      "A value is trying to be set on a copy of a slice from a DataFrame.\n",
      "Try using .loc[row_indexer,col_indexer] = value instead\n",
      "\n",
      "See the caveats in the documentation: http://pandas.pydata.org/pandas-docs/stable/indexing.html#indexing-view-versus-copy\n",
      "  \n",
      "C:\\Users\\Stephy\\Anaconda3\\lib\\site-packages\\ipykernel_launcher.py:15: SettingWithCopyWarning: \n",
      "A value is trying to be set on a copy of a slice from a DataFrame.\n",
      "Try using .loc[row_indexer,col_indexer] = value instead\n",
      "\n",
      "See the caveats in the documentation: http://pandas.pydata.org/pandas-docs/stable/indexing.html#indexing-view-versus-copy\n",
      "  from ipykernel import kernelapp as app\n",
      "C:\\Users\\Stephy\\Anaconda3\\lib\\site-packages\\ipykernel_launcher.py:22: SettingWithCopyWarning: \n",
      "A value is trying to be set on a copy of a slice from a DataFrame.\n",
      "Try using .loc[row_indexer,col_indexer] = value instead\n",
      "\n",
      "See the caveats in the documentation: http://pandas.pydata.org/pandas-docs/stable/indexing.html#indexing-view-versus-copy\n"
     ]
    }
   ],
   "source": [
    "# 'Rooms', 'crime_C_average','travel_min_to_CBD', 'Age'\n",
    "task2['R_rooms'] = None\n",
    "i = 0\n",
    "for row in task2.iterrows():\n",
    "    task2['R_rooms'].at[i] = math.sqrt(task2[\"Rooms\"][i])\n",
    "    i += 1\n",
    "\n",
    "task2['R_crime_C_average'] = None\n",
    "i = 0\n",
    "for row in task2.iterrows():\n",
    "    task2['R_crime_C_average'].at[i] = math.sqrt(task2[\"crime_C_average\"][i])\n",
    "    i += 1\n",
    "\n",
    "\n",
    "task2['R_travel_min_to_CBD'] = None\n",
    "i = 0\n",
    "for row in task2.iterrows():\n",
    "    task2['R_travel_min_to_CBD'].at[i] = math.sqrt(task2[\"travel_min_to_CBD\"][i])\n",
    "    i += 1\n",
    "    \n",
    "    \n",
    "task2['R_Age'] = None\n",
    "i = 0\n",
    "for row in task2.iterrows():\n",
    "    task2['R_Age'].at[i] = math.sqrt(task2[\"Age\"][i])\n",
    "    i += 1\n",
    "\n"
   ]
  },
  {
   "cell_type": "code",
   "execution_count": 729,
   "metadata": {},
   "outputs": [
    {
     "data": {
      "text/plain": [
       "(<matplotlib.axes._subplots.AxesSubplot at 0x1feb217d470>,\n",
       " <matplotlib.axes._subplots.AxesSubplot at 0x1feb217d470>,\n",
       " <matplotlib.axes._subplots.AxesSubplot at 0x1feb217d470>,\n",
       " <matplotlib.axes._subplots.AxesSubplot at 0x1feb217d470>)"
      ]
     },
     "execution_count": 729,
     "metadata": {},
     "output_type": "execute_result"
    },
    {
     "data": {
      "image/png": "[encoded data removed]",
      "text/plain": [
       "<Figure size 432x288 with 1 Axes>"
      ]
     },
     "metadata": {},
     "output_type": "display_data"
    }
   ],
   "source": [
    "#Now, we plot the ROOT TRANSFORMED data, and observe the range and the centre of the distribution for the ROOT TRANSFORMED features.\n",
    "task2[\"R_rooms\"].plot(), task2[\"R_crime_C_average\"].plot(), task2[\"R_travel_min_to_CBD\"].plot(), task2[\"R_Age\"].plot()"
   ]
  },
  {
   "cell_type": "markdown",
   "metadata": {},
   "source": [
    "## 4.Power transformation\n"
   ]
  },
  {
   "cell_type": "code",
   "execution_count": 732,
   "metadata": {},
   "outputs": [
    {
     "name": "stderr",
     "output_type": "stream",
     "text": [
      "C:\\Users\\Stephy\\Anaconda3\\lib\\site-packages\\ipykernel_launcher.py:5: SettingWithCopyWarning: \n",
      "A value is trying to be set on a copy of a slice from a DataFrame.\n",
      "Try using .loc[row_indexer,col_indexer] = value instead\n",
      "\n",
      "See the caveats in the documentation: http://pandas.pydata.org/pandas-docs/stable/indexing.html#indexing-view-versus-copy\n",
      "  \"\"\"\n"
     ]
    }
   ],
   "source": [
    "\n",
    "\n",
    "# 'Rooms', 'crime_C_average','travel_min_to_CBD', 'Age'\n",
    "task2['P_rooms'] = None\n",
    "i = 0\n",
    "for row in task2.iterrows():\n",
    "    task2['P_rooms'].at[i] = math.pow(task2[\"Rooms\"][i],2)\n",
    "    i += 1\n",
    "\n",
    "task2['P_crime_C_average'] = None\n",
    "i = 0\n",
    "for row in task2.iterrows():\n",
    "    task2['P_crime_C_average'].at[i] = math.pow(task2[\"crime_C_average\"][i],2)\n",
    "    i += 1\n",
    "\n",
    "\n",
    "task2['P_travel_min_to_CBD'] = None\n",
    "i = 0\n",
    "for row in task2.iterrows():\n",
    "    task2['P_travel_min_to_CBD'].at[i] = math.pow(task2[\"travel_min_to_CBD\"][i],2)\n",
    "    i += 1\n",
    "    \n",
    "    \n",
    "task2['P_Age'] = None\n",
    "i = 0\n",
    "for row in task2.iterrows():\n",
    "    task2['P_Age'].at[i] =  math.pow(task2[\"Age\"][i],2)\n",
    "    i += 1"
   ]
  },
  {
   "cell_type": "code",
   "execution_count": 733,
   "metadata": {},
   "outputs": [
    {
     "data": {
      "text/plain": [
       "(<matplotlib.axes._subplots.AxesSubplot at 0x1feb0f790b8>,\n",
       " <matplotlib.axes._subplots.AxesSubplot at 0x1feb0f790b8>,\n",
       " <matplotlib.axes._subplots.AxesSubplot at 0x1feb0f790b8>,\n",
       " <matplotlib.axes._subplots.AxesSubplot at 0x1feb0f790b8>)"
      ]
     },
     "execution_count": 733,
     "metadata": {},
     "output_type": "execute_result"
    },
    {
     "data": {
      "image/png": "[encoded data removed]",
      "text/plain": [
       "<Figure size 432x288 with 1 Axes>"
      ]
     },
     "metadata": {},
     "output_type": "display_data"
    }
   ],
   "source": [
    "#Now, we plot the POWER TRANSFOEMD data, and observe the range and the centre of the distribution for the POWER TRANSFOEMD  features.\n",
    "task2[\"P_rooms\"].plot(), task2[\"P_crime_C_average\"].plot(), task2[\"P_travel_min_to_CBD\"].plot(), task2[\"P_Age\"].plot()"
   ]
  },
  {
   "cell_type": "markdown",
   "metadata": {},
   "source": [
    "## 5. Log Transformation\n",
    "\n",
    "Log transformation cannot be done if data contains zero value. Therefore scaling the entire data by adding 1 to it.\n"
   ]
  },
  {
   "cell_type": "code",
   "execution_count": 737,
   "metadata": {},
   "outputs": [],
   "source": [
    "\n",
    "# 'Rooms', 'crime_C_average','travel_min_to_CBD', 'Age'\n",
    "task2['L_rooms'] = None\n",
    "i = 0\n",
    "for row in task2.iterrows():\n",
    "    task2['L_rooms'].at[i] = math.log(1+task2[\"Rooms\"][i])\n",
    "    i += 1\n",
    "\n",
    "task2['L_crime_C_average'] = None\n",
    "i = 0\n",
    "for row in task2.iterrows():\n",
    "    task2['L_crime_C_average'].at[i] = math.log(1+task2[\"crime_C_average\"][i])\n",
    "    i += 1\n",
    "\n",
    "\n",
    "task2['L_travel_min_to_CBD'] = None\n",
    "i = 0\n",
    "for row in task2.iterrows():\n",
    "    task2['L_travel_min_to_CBD'].at[i] = math.log(1+task2[\"travel_min_to_CBD\"][i])\n",
    "    i += 1\n",
    "    \n",
    "    \n",
    "task2['L_Age'] = None\n",
    "i = 0\n",
    "for row in task2.iterrows():\n",
    "    task2['L_Age'].at[i] =  math.log(1+task2[\"Age\"][i])\n",
    "    i += 1"
   ]
  },
  {
   "cell_type": "code",
   "execution_count": 738,
   "metadata": {},
   "outputs": [
    {
     "data": {
      "text/plain": [
       "(<matplotlib.axes._subplots.AxesSubplot at 0x1feb22b9780>,\n",
       " <matplotlib.axes._subplots.AxesSubplot at 0x1feb22b9780>,\n",
       " <matplotlib.axes._subplots.AxesSubplot at 0x1feb22b9780>,\n",
       " <matplotlib.axes._subplots.AxesSubplot at 0x1feb22b9780>)"
      ]
     },
     "execution_count": 738,
     "metadata": {},
     "output_type": "execute_result"
    },
    {
     "data": {
      "image/png": "[encoded data removed]",
      "text/plain": [
       "<Figure size 432x288 with 1 Axes>"
      ]
     },
     "metadata": {},
     "output_type": "display_data"
    }
   ],
   "source": [
    "#Now, we plot the LOG TRANSFORMED data, and observe the range and the centre of the distribution for the LOG TRANSFORMED  features.\n",
    "task2[\"L_rooms\"].plot(), task2[\"L_crime_C_average\"].plot(), task2[\"L_travel_min_to_CBD\"].plot(), task2[\"L_Age\"].plot()"
   ]
  },
  {
   "cell_type": "markdown",
   "metadata": {},
   "source": [
    "### Fitting regression model to understand which transformation/normalization works best"
   ]
  },
  {
   "cell_type": "code",
   "execution_count": 776,
   "metadata": {},
   "outputs": [
    {
     "name": "stdout",
     "output_type": "stream",
     "text": [
      "R-squared value =  0.38628702181856156\n"
     ]
    }
   ],
   "source": [
    "lm_data=task2[['Rooms','crime_C_average','travel_min_to_CBD','Age','Price']]\n",
    "\n",
    "X_train, X_test, y_train, y_test = train_test_split(lm_data.iloc[:,:-1],lm_data.iloc[:,-1:])\n",
    "lm_out = LinearRegression() # object of Linear Regression\n",
    "lm_out.fit(X_train,y_train)\n",
    "y_pred=lm_out.predict(X_test)\n",
    "\n",
    "print ('R-squared value = ',lm_out.score(X_test,y_test))"
   ]
  },
  {
   "cell_type": "code",
   "execution_count": 777,
   "metadata": {},
   "outputs": [
    {
     "name": "stdout",
     "output_type": "stream",
     "text": [
      "MSE =  431820.25521348487\n"
     ]
    }
   ],
   "source": [
    "print('MSE = ', math.sqrt(mean_squared_error(y_test,y_pred)))"
   ]
  },
  {
   "cell_type": "code",
   "execution_count": 778,
   "metadata": {},
   "outputs": [
    {
     "name": "stdout",
     "output_type": "stream",
     "text": [
      "R-squared value =  0.4182451176437394\n"
     ]
    }
   ],
   "source": [
    "#REGRESSION MODEL FOR STANDARIZED DATA\n",
    "lm_data=task2[['S_Rooms','S_crime_C_average','S_travel_min_to_CBD','S_Age','Price']]\n",
    "\n",
    "X_train, X_test, y_train, y_test = train_test_split(lm_data.iloc[:,:-1],lm_data.iloc[:,-1:])\n",
    "lm_out = LinearRegression() # object of Linear Regression\n",
    "lm_out.fit(X_train,y_train)\n",
    "y_pred=lm_out.predict(X_test)\n",
    "\n",
    "print ('R-squared value = ',lm_out.score(X_test,y_test))\n"
   ]
  },
  {
   "cell_type": "code",
   "execution_count": 779,
   "metadata": {},
   "outputs": [
    {
     "name": "stdout",
     "output_type": "stream",
     "text": [
      "MSE =  439732.23565829353\n"
     ]
    }
   ],
   "source": [
    "print('MSE = ', math.sqrt(mean_squared_error(y_test,y_pred)))"
   ]
  },
  {
   "cell_type": "code",
   "execution_count": 780,
   "metadata": {},
   "outputs": [
    {
     "name": "stdout",
     "output_type": "stream",
     "text": [
      "R-squared value =  0.3961153215888269\n"
     ]
    }
   ],
   "source": [
    "#REGRESSION MODEL FOR MIN MAX NORMALIZED DATA\n",
    "lm_data=task2[['M_Rooms','M_crime_C_average','M_travel_min_to_CBD','M_Age','Price']]\n",
    "\n",
    "X_train, X_test, y_train, y_test = train_test_split(lm_data.iloc[:,:-1],lm_data.iloc[:,-1:])\n",
    "lm_out = LinearRegression() # object of Linear Regression\n",
    "lm_out.fit(X_train,y_train)\n",
    "y_pred=lm_out.predict(X_test)\n",
    "\n",
    "print ('R-squared value = ',lm_out.score(X_test,y_test))\n"
   ]
  },
  {
   "cell_type": "code",
   "execution_count": 781,
   "metadata": {},
   "outputs": [
    {
     "name": "stdout",
     "output_type": "stream",
     "text": [
      "MSE =  484589.1235037066\n"
     ]
    }
   ],
   "source": [
    "print('MSE = ', math.sqrt(mean_squared_error(y_test,y_pred)))"
   ]
  },
  {
   "cell_type": "code",
   "execution_count": 782,
   "metadata": {},
   "outputs": [
    {
     "name": "stdout",
     "output_type": "stream",
     "text": [
      "R-squared value =  0.4106781774828341\n"
     ]
    }
   ],
   "source": [
    "#REGRESSION MODEL FOR ROOT TRANSFORMED DATA\n",
    "lm_data=task2[['R_rooms','R_crime_C_average','R_travel_min_to_CBD','R_Age','Price']]\n",
    "\n",
    "X_train, X_test, y_train, y_test = train_test_split(lm_data.iloc[:,:-1],lm_data.iloc[:,-1:])\n",
    "lm_out = LinearRegression() # object of Linear Regression\n",
    "lm_out.fit(X_train,y_train)\n",
    "y_pred=lm_out.predict(X_test)\n",
    "\n",
    "print ('R-squared value = ',lm_out.score(X_test,y_test))"
   ]
  },
  {
   "cell_type": "code",
   "execution_count": 783,
   "metadata": {},
   "outputs": [
    {
     "name": "stdout",
     "output_type": "stream",
     "text": [
      "MSE =  496302.6503186769\n"
     ]
    }
   ],
   "source": [
    "print('MSE = ', math.sqrt(mean_squared_error(y_test,y_pred)))"
   ]
  },
  {
   "cell_type": "code",
   "execution_count": 784,
   "metadata": {},
   "outputs": [
    {
     "name": "stdout",
     "output_type": "stream",
     "text": [
      "R-squared value =  0.4757394717387655\n"
     ]
    }
   ],
   "source": [
    "#REGRESSION MODEL POWER TRANSFORMED DATA\n",
    "lm_data=task2[['P_rooms','P_crime_C_average','P_travel_min_to_CBD','P_Age','Price']]\n",
    "\n",
    "X_train, X_test, y_train, y_test = train_test_split(lm_data.iloc[:,:-1],lm_data.iloc[:,-1:])\n",
    "lm_out = LinearRegression() # object of Linear Regression\n",
    "lm_out.fit(X_train,y_train)\n",
    "y_pred=lm_out.predict(X_test)\n",
    "\n",
    "print ('R-squared value = ',lm_out.score(X_test,y_test))"
   ]
  },
  {
   "cell_type": "code",
   "execution_count": 785,
   "metadata": {},
   "outputs": [
    {
     "name": "stdout",
     "output_type": "stream",
     "text": [
      "MSE =  411548.36161487486\n"
     ]
    }
   ],
   "source": [
    "print('MSE = ', math.sqrt(mean_squared_error(y_test,y_pred)))"
   ]
  },
  {
   "cell_type": "code",
   "execution_count": 787,
   "metadata": {},
   "outputs": [
    {
     "name": "stdout",
     "output_type": "stream",
     "text": [
      "R-squared value =  0.2778773081314525\n"
     ]
    }
   ],
   "source": [
    "#REGRESSION MODEL LOG TRANSFORMED DATA\n",
    "lm_data=task2[['L_rooms','L_crime_C_average','L_travel_min_to_CBD','L_Age','Price']]\n",
    "\n",
    "X_train, X_test, y_train, y_test = train_test_split(lm_data.iloc[:,:-1],lm_data.iloc[:,-1:])\n",
    "lm_out = LinearRegression() # object of Linear Regression\n",
    "lm_out.fit(X_train,y_train)\n",
    "y_pred=lm_out.predict(X_test)\n",
    "\n",
    "print ('R-squared value = ',lm_out.score(X_test,y_test))"
   ]
  },
  {
   "cell_type": "code",
   "execution_count": 788,
   "metadata": {},
   "outputs": [
    {
     "name": "stdout",
     "output_type": "stream",
     "text": [
      "MSE =  508943.4260727651\n"
     ]
    }
   ],
   "source": [
    "print('MSE = ', math.sqrt(mean_squared_error(y_test,y_pred)))"
   ]
  },
  {
   "cell_type": "markdown",
   "metadata": {},
   "source": [
    "### Inference \n",
    "\n",
    "From the various transformations and normalizations that have been performed, the power transformation gives the best result in multiple iterations. It has an observed r-square value of 47% which is much greater than the r-square value of model run without any transformation. It also gives the least MSE when the test data and the predicted data is compared.\n",
    "\n",
    "The same transformation has been applied to rooms, crime_C_avg, time_min_to_CBD and age.\n",
    "\n",
    "### Conclusion \n",
    "In Task 1, various data sources were used to get information regarding PTV, train schedule, house price and crime in a given suburb. GTFS data was primarily used to get train related information. \n",
    "Most of the answers were verfied by checking on google maps. The distance and the time from the nearest station.\n",
    "\n",
    "Crime data was used to understand the average crime based on type ABC. It was observed that crime B had greater average than Crime A or C in most suburbs. Also the median price of properties in a suburb was calculated and almost 50 properties in the dataset had greater median price when compared to other houses in the same suburb.\n",
    "\n",
    "In Task 2, various transformations and normalization methods were applied to best study their effect on the variables in different scales. The best transformation was verified using linear regression modelling. Power transformation give better R-square values and lower MSE. It was choosen as the best transformation method\n",
    "\n",
    "### Reference\n",
    "\n",
    "https://github.com/bobhaffner/medium_posts/blob/master/geopandas_sjoin/geopandas_sjoin.ipynb\n",
    "\n",
    "https://stackoverflow.com/questions/31269216/applying-uppercase-to-a-column-in-pandas-dataframe\n",
    "\n",
    "Tutorial 11 content for data normalization"
   ]
  },
  {
   "cell_type": "code",
   "execution_count": null,
   "metadata": {},
   "outputs": [],
   "source": []
  }
 ],
 "metadata": {
  "kernelspec": {
   "display_name": "Python 3",
   "language": "python",
   "name": "python3"
  },
  "language_info": {
   "codemirror_mode": {
    "name": "ipython",
    "version": 3
   },
   "file_extension": ".py",
   "mimetype": "text/x-python",
   "name": "python",
   "nbconvert_exporter": "python",
   "pygments_lexer": "ipython3",
   "version": "3.6.5"
  }
 },
 "nbformat": 4,
 "nbformat_minor": 2
}
